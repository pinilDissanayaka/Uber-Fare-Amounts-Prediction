{
 "cells": [
  {
   "cell_type": "code",
   "execution_count": 78,
   "id": "a852666f",
   "metadata": {},
   "outputs": [],
   "source": [
    "import numpy as np\n",
    "import pandas as pd\n",
    "import seaborn as sns\n",
    "import matplotlib.pyplot as plt\n",
    "import math as mt\n",
    "from sklearn.preprocessing import StandardScaler\n",
    "from sklearn.model_selection import train_test_split\n",
    "from sklearn.linear_model import LinearRegression, Lasso, Ridge\n",
    "from sklearn.compose import ColumnTransformer\n",
    "from sklearn.pipeline import Pipeline\n",
    "from sklearn.metrics import accuracy_score, r2_score, mean_absolute_error, mean_squared_error\n",
    "\n",
    "\n",
    "\n",
    "import warnings\n",
    "warnings.filterwarnings(action = \"ignore\")"
   ]
  },
  {
   "cell_type": "code",
   "execution_count": 79,
   "id": "dd7c01bb",
   "metadata": {},
   "outputs": [],
   "source": [
    "df = pd.read_csv('../Data/uber.csv')"
   ]
  },
  {
   "cell_type": "code",
   "execution_count": 80,
   "id": "28cd9034",
   "metadata": {},
   "outputs": [
    {
     "data": {
      "text/html": [
       "<div>\n",
       "<style scoped>\n",
       "    .dataframe tbody tr th:only-of-type {\n",
       "        vertical-align: middle;\n",
       "    }\n",
       "\n",
       "    .dataframe tbody tr th {\n",
       "        vertical-align: top;\n",
       "    }\n",
       "\n",
       "    .dataframe thead th {\n",
       "        text-align: right;\n",
       "    }\n",
       "</style>\n",
       "<table border=\"1\" class=\"dataframe\">\n",
       "  <thead>\n",
       "    <tr style=\"text-align: right;\">\n",
       "      <th></th>\n",
       "      <th>Unnamed: 0</th>\n",
       "      <th>key</th>\n",
       "      <th>fare_amount</th>\n",
       "      <th>pickup_datetime</th>\n",
       "      <th>pickup_longitude</th>\n",
       "      <th>pickup_latitude</th>\n",
       "      <th>dropoff_longitude</th>\n",
       "      <th>dropoff_latitude</th>\n",
       "      <th>passenger_count</th>\n",
       "    </tr>\n",
       "  </thead>\n",
       "  <tbody>\n",
       "    <tr>\n",
       "      <th>0</th>\n",
       "      <td>24238194</td>\n",
       "      <td>2015-05-07 19:52:06.0000003</td>\n",
       "      <td>7.5</td>\n",
       "      <td>2015-05-07 19:52:06 UTC</td>\n",
       "      <td>-73.999817</td>\n",
       "      <td>40.738354</td>\n",
       "      <td>-73.999512</td>\n",
       "      <td>40.723217</td>\n",
       "      <td>1</td>\n",
       "    </tr>\n",
       "    <tr>\n",
       "      <th>1</th>\n",
       "      <td>27835199</td>\n",
       "      <td>2009-07-17 20:04:56.0000002</td>\n",
       "      <td>7.7</td>\n",
       "      <td>2009-07-17 20:04:56 UTC</td>\n",
       "      <td>-73.994355</td>\n",
       "      <td>40.728225</td>\n",
       "      <td>-73.994710</td>\n",
       "      <td>40.750325</td>\n",
       "      <td>1</td>\n",
       "    </tr>\n",
       "    <tr>\n",
       "      <th>2</th>\n",
       "      <td>44984355</td>\n",
       "      <td>2009-08-24 21:45:00.00000061</td>\n",
       "      <td>12.9</td>\n",
       "      <td>2009-08-24 21:45:00 UTC</td>\n",
       "      <td>-74.005043</td>\n",
       "      <td>40.740770</td>\n",
       "      <td>-73.962565</td>\n",
       "      <td>40.772647</td>\n",
       "      <td>1</td>\n",
       "    </tr>\n",
       "    <tr>\n",
       "      <th>3</th>\n",
       "      <td>25894730</td>\n",
       "      <td>2009-06-26 08:22:21.0000001</td>\n",
       "      <td>5.3</td>\n",
       "      <td>2009-06-26 08:22:21 UTC</td>\n",
       "      <td>-73.976124</td>\n",
       "      <td>40.790844</td>\n",
       "      <td>-73.965316</td>\n",
       "      <td>40.803349</td>\n",
       "      <td>3</td>\n",
       "    </tr>\n",
       "    <tr>\n",
       "      <th>4</th>\n",
       "      <td>17610152</td>\n",
       "      <td>2014-08-28 17:47:00.000000188</td>\n",
       "      <td>16.0</td>\n",
       "      <td>2014-08-28 17:47:00 UTC</td>\n",
       "      <td>-73.925023</td>\n",
       "      <td>40.744085</td>\n",
       "      <td>-73.973082</td>\n",
       "      <td>40.761247</td>\n",
       "      <td>5</td>\n",
       "    </tr>\n",
       "  </tbody>\n",
       "</table>\n",
       "</div>"
      ],
      "text/plain": [
       "   Unnamed: 0                            key  fare_amount  \\\n",
       "0    24238194    2015-05-07 19:52:06.0000003          7.5   \n",
       "1    27835199    2009-07-17 20:04:56.0000002          7.7   \n",
       "2    44984355   2009-08-24 21:45:00.00000061         12.9   \n",
       "3    25894730    2009-06-26 08:22:21.0000001          5.3   \n",
       "4    17610152  2014-08-28 17:47:00.000000188         16.0   \n",
       "\n",
       "           pickup_datetime  pickup_longitude  pickup_latitude  \\\n",
       "0  2015-05-07 19:52:06 UTC        -73.999817        40.738354   \n",
       "1  2009-07-17 20:04:56 UTC        -73.994355        40.728225   \n",
       "2  2009-08-24 21:45:00 UTC        -74.005043        40.740770   \n",
       "3  2009-06-26 08:22:21 UTC        -73.976124        40.790844   \n",
       "4  2014-08-28 17:47:00 UTC        -73.925023        40.744085   \n",
       "\n",
       "   dropoff_longitude  dropoff_latitude  passenger_count  \n",
       "0         -73.999512         40.723217                1  \n",
       "1         -73.994710         40.750325                1  \n",
       "2         -73.962565         40.772647                1  \n",
       "3         -73.965316         40.803349                3  \n",
       "4         -73.973082         40.761247                5  "
      ]
     },
     "execution_count": 80,
     "metadata": {},
     "output_type": "execute_result"
    }
   ],
   "source": [
    "df.head()"
   ]
  },
  {
   "cell_type": "code",
   "execution_count": 81,
   "id": "760fd20b",
   "metadata": {},
   "outputs": [
    {
     "data": {
      "text/html": [
       "<div>\n",
       "<style scoped>\n",
       "    .dataframe tbody tr th:only-of-type {\n",
       "        vertical-align: middle;\n",
       "    }\n",
       "\n",
       "    .dataframe tbody tr th {\n",
       "        vertical-align: top;\n",
       "    }\n",
       "\n",
       "    .dataframe thead th {\n",
       "        text-align: right;\n",
       "    }\n",
       "</style>\n",
       "<table border=\"1\" class=\"dataframe\">\n",
       "  <thead>\n",
       "    <tr style=\"text-align: right;\">\n",
       "      <th></th>\n",
       "      <th>Unnamed: 0</th>\n",
       "      <th>key</th>\n",
       "      <th>fare_amount</th>\n",
       "      <th>pickup_datetime</th>\n",
       "      <th>pickup_longitude</th>\n",
       "      <th>pickup_latitude</th>\n",
       "      <th>dropoff_longitude</th>\n",
       "      <th>dropoff_latitude</th>\n",
       "      <th>passenger_count</th>\n",
       "    </tr>\n",
       "  </thead>\n",
       "  <tbody>\n",
       "    <tr>\n",
       "      <th>199995</th>\n",
       "      <td>42598914</td>\n",
       "      <td>2012-10-28 10:49:00.00000053</td>\n",
       "      <td>3.0</td>\n",
       "      <td>2012-10-28 10:49:00 UTC</td>\n",
       "      <td>-73.987042</td>\n",
       "      <td>40.739367</td>\n",
       "      <td>-73.986525</td>\n",
       "      <td>40.740297</td>\n",
       "      <td>1</td>\n",
       "    </tr>\n",
       "    <tr>\n",
       "      <th>199996</th>\n",
       "      <td>16382965</td>\n",
       "      <td>2014-03-14 01:09:00.0000008</td>\n",
       "      <td>7.5</td>\n",
       "      <td>2014-03-14 01:09:00 UTC</td>\n",
       "      <td>-73.984722</td>\n",
       "      <td>40.736837</td>\n",
       "      <td>-74.006672</td>\n",
       "      <td>40.739620</td>\n",
       "      <td>1</td>\n",
       "    </tr>\n",
       "    <tr>\n",
       "      <th>199997</th>\n",
       "      <td>27804658</td>\n",
       "      <td>2009-06-29 00:42:00.00000078</td>\n",
       "      <td>30.9</td>\n",
       "      <td>2009-06-29 00:42:00 UTC</td>\n",
       "      <td>-73.986017</td>\n",
       "      <td>40.756487</td>\n",
       "      <td>-73.858957</td>\n",
       "      <td>40.692588</td>\n",
       "      <td>2</td>\n",
       "    </tr>\n",
       "    <tr>\n",
       "      <th>199998</th>\n",
       "      <td>20259894</td>\n",
       "      <td>2015-05-20 14:56:25.0000004</td>\n",
       "      <td>14.5</td>\n",
       "      <td>2015-05-20 14:56:25 UTC</td>\n",
       "      <td>-73.997124</td>\n",
       "      <td>40.725452</td>\n",
       "      <td>-73.983215</td>\n",
       "      <td>40.695415</td>\n",
       "      <td>1</td>\n",
       "    </tr>\n",
       "    <tr>\n",
       "      <th>199999</th>\n",
       "      <td>11951496</td>\n",
       "      <td>2010-05-15 04:08:00.00000076</td>\n",
       "      <td>14.1</td>\n",
       "      <td>2010-05-15 04:08:00 UTC</td>\n",
       "      <td>-73.984395</td>\n",
       "      <td>40.720077</td>\n",
       "      <td>-73.985508</td>\n",
       "      <td>40.768793</td>\n",
       "      <td>1</td>\n",
       "    </tr>\n",
       "  </tbody>\n",
       "</table>\n",
       "</div>"
      ],
      "text/plain": [
       "        Unnamed: 0                           key  fare_amount  \\\n",
       "199995    42598914  2012-10-28 10:49:00.00000053          3.0   \n",
       "199996    16382965   2014-03-14 01:09:00.0000008          7.5   \n",
       "199997    27804658  2009-06-29 00:42:00.00000078         30.9   \n",
       "199998    20259894   2015-05-20 14:56:25.0000004         14.5   \n",
       "199999    11951496  2010-05-15 04:08:00.00000076         14.1   \n",
       "\n",
       "                pickup_datetime  pickup_longitude  pickup_latitude  \\\n",
       "199995  2012-10-28 10:49:00 UTC        -73.987042        40.739367   \n",
       "199996  2014-03-14 01:09:00 UTC        -73.984722        40.736837   \n",
       "199997  2009-06-29 00:42:00 UTC        -73.986017        40.756487   \n",
       "199998  2015-05-20 14:56:25 UTC        -73.997124        40.725452   \n",
       "199999  2010-05-15 04:08:00 UTC        -73.984395        40.720077   \n",
       "\n",
       "        dropoff_longitude  dropoff_latitude  passenger_count  \n",
       "199995         -73.986525         40.740297                1  \n",
       "199996         -74.006672         40.739620                1  \n",
       "199997         -73.858957         40.692588                2  \n",
       "199998         -73.983215         40.695415                1  \n",
       "199999         -73.985508         40.768793                1  "
      ]
     },
     "execution_count": 81,
     "metadata": {},
     "output_type": "execute_result"
    }
   ],
   "source": [
    "df.tail()"
   ]
  },
  {
   "cell_type": "code",
   "execution_count": 82,
   "id": "86b93568",
   "metadata": {},
   "outputs": [],
   "source": [
    "df.drop(columns = ['Unnamed: 0'], axis = 1, inplace = True)"
   ]
  },
  {
   "cell_type": "code",
   "execution_count": 83,
   "id": "1a624bde",
   "metadata": {},
   "outputs": [
    {
     "data": {
      "text/plain": [
       "(200000, 8)"
      ]
     },
     "execution_count": 83,
     "metadata": {},
     "output_type": "execute_result"
    }
   ],
   "source": [
    "df.shape"
   ]
  },
  {
   "cell_type": "markdown",
   "id": "f98c97f8",
   "metadata": {},
   "source": [
    "This dataset contain 200,000 rows and 8 columns."
   ]
  },
  {
   "cell_type": "code",
   "execution_count": 84,
   "id": "fa7b2356",
   "metadata": {},
   "outputs": [
    {
     "name": "stdout",
     "output_type": "stream",
     "text": [
      "All features : ['key', 'fare_amount', 'pickup_datetime', 'pickup_longitude', 'pickup_latitude', 'dropoff_longitude', 'dropoff_latitude', 'passenger_count']\n"
     ]
    }
   ],
   "source": [
    "all_col = list(df.columns)\n",
    "\n",
    "print(f\"All features : {all_col}\")"
   ]
  },
  {
   "cell_type": "markdown",
   "id": "408b608d",
   "metadata": {},
   "source": [
    "1. key - a unique identifier for each trip\n",
    "2. fare_amount - the cost of each trip in usd\n",
    "3. pickup_datetime - date and time when the meter was engaged\n",
    "4. passenger_count - the number of passengers in the vehicle (driver entered value)\n",
    "5. pickup_longitude - the longitude where the meter was engaged\n",
    "6. pickup_latitude - the latitude where the meter was engaged\n",
    "7. dropoff_longitude - the longitude where the meter was disengaged\n",
    "8. dropoff_latitude - the latitude where the meter was disengaged"
   ]
  },
  {
   "cell_type": "markdown",
   "id": "852975b2",
   "metadata": {},
   "source": [
    "# Dealing with duplicate values."
   ]
  },
  {
   "cell_type": "code",
   "execution_count": 85,
   "id": "50c337a1",
   "metadata": {},
   "outputs": [
    {
     "data": {
      "text/plain": [
       "0"
      ]
     },
     "execution_count": 85,
     "metadata": {},
     "output_type": "execute_result"
    }
   ],
   "source": [
    "df.duplicated().sum()"
   ]
  },
  {
   "cell_type": "markdown",
   "id": "1751c6c6",
   "metadata": {},
   "source": [
    "There are no duplicated values in that dataset."
   ]
  },
  {
   "cell_type": "markdown",
   "id": "7439b96a",
   "metadata": {},
   "source": [
    "# Dealing with missing values."
   ]
  },
  {
   "cell_type": "code",
   "execution_count": 86,
   "id": "3c2f750b",
   "metadata": {},
   "outputs": [
    {
     "data": {
      "text/plain": [
       "key                  0\n",
       "fare_amount          0\n",
       "pickup_datetime      0\n",
       "pickup_longitude     0\n",
       "pickup_latitude      0\n",
       "dropoff_longitude    1\n",
       "dropoff_latitude     1\n",
       "passenger_count      0\n",
       "dtype: int64"
      ]
     },
     "execution_count": 86,
     "metadata": {},
     "output_type": "execute_result"
    }
   ],
   "source": [
    "df.isnull().sum()"
   ]
  },
  {
   "cell_type": "code",
   "execution_count": 87,
   "id": "52e22a9f",
   "metadata": {},
   "outputs": [
    {
     "data": {
      "text/html": [
       "<div>\n",
       "<style scoped>\n",
       "    .dataframe tbody tr th:only-of-type {\n",
       "        vertical-align: middle;\n",
       "    }\n",
       "\n",
       "    .dataframe tbody tr th {\n",
       "        vertical-align: top;\n",
       "    }\n",
       "\n",
       "    .dataframe thead th {\n",
       "        text-align: right;\n",
       "    }\n",
       "</style>\n",
       "<table border=\"1\" class=\"dataframe\">\n",
       "  <thead>\n",
       "    <tr style=\"text-align: right;\">\n",
       "      <th></th>\n",
       "      <th>key</th>\n",
       "      <th>fare_amount</th>\n",
       "      <th>pickup_datetime</th>\n",
       "      <th>pickup_longitude</th>\n",
       "      <th>pickup_latitude</th>\n",
       "      <th>dropoff_longitude</th>\n",
       "      <th>dropoff_latitude</th>\n",
       "      <th>passenger_count</th>\n",
       "    </tr>\n",
       "  </thead>\n",
       "  <tbody>\n",
       "    <tr>\n",
       "      <th>87946</th>\n",
       "      <td>2013-07-02 03:51:57.0000001</td>\n",
       "      <td>24.1</td>\n",
       "      <td>2013-07-02 03:51:57 UTC</td>\n",
       "      <td>-73.950581</td>\n",
       "      <td>40.779692</td>\n",
       "      <td>NaN</td>\n",
       "      <td>NaN</td>\n",
       "      <td>0</td>\n",
       "    </tr>\n",
       "  </tbody>\n",
       "</table>\n",
       "</div>"
      ],
      "text/plain": [
       "                               key  fare_amount          pickup_datetime  \\\n",
       "87946  2013-07-02 03:51:57.0000001         24.1  2013-07-02 03:51:57 UTC   \n",
       "\n",
       "       pickup_longitude  pickup_latitude  dropoff_longitude  dropoff_latitude  \\\n",
       "87946        -73.950581        40.779692                NaN               NaN   \n",
       "\n",
       "       passenger_count  \n",
       "87946                0  "
      ]
     },
     "execution_count": 87,
     "metadata": {},
     "output_type": "execute_result"
    }
   ],
   "source": [
    "df[df.isnull().any(axis = 1)]"
   ]
  },
  {
   "cell_type": "code",
   "execution_count": 88,
   "id": "a35a48ef",
   "metadata": {},
   "outputs": [],
   "source": [
    "df.dropna(inplace = True)"
   ]
  },
  {
   "cell_type": "code",
   "execution_count": 89,
   "id": "e72129a7",
   "metadata": {},
   "outputs": [
    {
     "data": {
      "text/plain": [
       "(199999, 8)"
      ]
     },
     "execution_count": 89,
     "metadata": {},
     "output_type": "execute_result"
    }
   ],
   "source": [
    "df.shape"
   ]
  },
  {
   "cell_type": "markdown",
   "id": "fa3a0013",
   "metadata": {},
   "source": [
    "Now it contain 199,999 rows and 8 columns."
   ]
  },
  {
   "cell_type": "code",
   "execution_count": 90,
   "id": "bc7b200a",
   "metadata": {
    "scrolled": true
   },
   "outputs": [
    {
     "data": {
      "text/html": [
       "<div>\n",
       "<style scoped>\n",
       "    .dataframe tbody tr th:only-of-type {\n",
       "        vertical-align: middle;\n",
       "    }\n",
       "\n",
       "    .dataframe tbody tr th {\n",
       "        vertical-align: top;\n",
       "    }\n",
       "\n",
       "    .dataframe thead th {\n",
       "        text-align: right;\n",
       "    }\n",
       "</style>\n",
       "<table border=\"1\" class=\"dataframe\">\n",
       "  <thead>\n",
       "    <tr style=\"text-align: right;\">\n",
       "      <th></th>\n",
       "      <th>count</th>\n",
       "      <th>mean</th>\n",
       "      <th>std</th>\n",
       "      <th>min</th>\n",
       "      <th>25%</th>\n",
       "      <th>50%</th>\n",
       "      <th>75%</th>\n",
       "      <th>max</th>\n",
       "    </tr>\n",
       "  </thead>\n",
       "  <tbody>\n",
       "    <tr>\n",
       "      <th>fare_amount</th>\n",
       "      <td>199999.0</td>\n",
       "      <td>11.359892</td>\n",
       "      <td>9.901760</td>\n",
       "      <td>-52.000000</td>\n",
       "      <td>6.000000</td>\n",
       "      <td>8.500000</td>\n",
       "      <td>12.500000</td>\n",
       "      <td>499.000000</td>\n",
       "    </tr>\n",
       "    <tr>\n",
       "      <th>pickup_longitude</th>\n",
       "      <td>199999.0</td>\n",
       "      <td>-72.527631</td>\n",
       "      <td>11.437815</td>\n",
       "      <td>-1340.648410</td>\n",
       "      <td>-73.992065</td>\n",
       "      <td>-73.981823</td>\n",
       "      <td>-73.967154</td>\n",
       "      <td>57.418457</td>\n",
       "    </tr>\n",
       "    <tr>\n",
       "      <th>pickup_latitude</th>\n",
       "      <td>199999.0</td>\n",
       "      <td>39.935881</td>\n",
       "      <td>7.720558</td>\n",
       "      <td>-74.015515</td>\n",
       "      <td>40.734796</td>\n",
       "      <td>40.752592</td>\n",
       "      <td>40.767158</td>\n",
       "      <td>1644.421482</td>\n",
       "    </tr>\n",
       "    <tr>\n",
       "      <th>dropoff_longitude</th>\n",
       "      <td>199999.0</td>\n",
       "      <td>-72.525292</td>\n",
       "      <td>13.117408</td>\n",
       "      <td>-3356.666300</td>\n",
       "      <td>-73.991407</td>\n",
       "      <td>-73.980093</td>\n",
       "      <td>-73.963658</td>\n",
       "      <td>1153.572603</td>\n",
       "    </tr>\n",
       "    <tr>\n",
       "      <th>dropoff_latitude</th>\n",
       "      <td>199999.0</td>\n",
       "      <td>39.923890</td>\n",
       "      <td>6.794829</td>\n",
       "      <td>-881.985513</td>\n",
       "      <td>40.733823</td>\n",
       "      <td>40.753042</td>\n",
       "      <td>40.768001</td>\n",
       "      <td>872.697628</td>\n",
       "    </tr>\n",
       "    <tr>\n",
       "      <th>passenger_count</th>\n",
       "      <td>199999.0</td>\n",
       "      <td>1.684543</td>\n",
       "      <td>1.385995</td>\n",
       "      <td>0.000000</td>\n",
       "      <td>1.000000</td>\n",
       "      <td>1.000000</td>\n",
       "      <td>2.000000</td>\n",
       "      <td>208.000000</td>\n",
       "    </tr>\n",
       "  </tbody>\n",
       "</table>\n",
       "</div>"
      ],
      "text/plain": [
       "                      count       mean        std          min        25%  \\\n",
       "fare_amount        199999.0  11.359892   9.901760   -52.000000   6.000000   \n",
       "pickup_longitude   199999.0 -72.527631  11.437815 -1340.648410 -73.992065   \n",
       "pickup_latitude    199999.0  39.935881   7.720558   -74.015515  40.734796   \n",
       "dropoff_longitude  199999.0 -72.525292  13.117408 -3356.666300 -73.991407   \n",
       "dropoff_latitude   199999.0  39.923890   6.794829  -881.985513  40.733823   \n",
       "passenger_count    199999.0   1.684543   1.385995     0.000000   1.000000   \n",
       "\n",
       "                         50%        75%          max  \n",
       "fare_amount         8.500000  12.500000   499.000000  \n",
       "pickup_longitude  -73.981823 -73.967154    57.418457  \n",
       "pickup_latitude    40.752592  40.767158  1644.421482  \n",
       "dropoff_longitude -73.980093 -73.963658  1153.572603  \n",
       "dropoff_latitude   40.753042  40.768001   872.697628  \n",
       "passenger_count     1.000000   2.000000   208.000000  "
      ]
     },
     "execution_count": 90,
     "metadata": {},
     "output_type": "execute_result"
    }
   ],
   "source": [
    "df.describe().T"
   ]
  },
  {
   "cell_type": "markdown",
   "id": "b26e463d",
   "metadata": {},
   "source": [
    "Longitude:\n",
    "1. Minimum: -180 degrees (180 degrees West)\n",
    "2. Maximum: +180 degrees (180 degrees East)\n",
    "\n",
    "Latitude:\n",
    "1. Minimum: -90 degrees (South Pole)\n",
    "2. Maximum: +90 degrees (North Pole)\n",
    "\n",
    "passenger_count:\n",
    "\n",
    "The maximum number of passengers allowed in an Uber vehicle can vary depending on the type of Uber service and the vehicle being used. In most standard Uber services but the maximum number of passengers is typically 6.\n"
   ]
  },
  {
   "cell_type": "markdown",
   "id": "abb6789e",
   "metadata": {},
   "source": [
    "# Dealing with unnecessary values."
   ]
  },
  {
   "cell_type": "code",
   "execution_count": 91,
   "id": "25d851f3",
   "metadata": {},
   "outputs": [
    {
     "data": {
      "text/html": [
       "<div>\n",
       "<style scoped>\n",
       "    .dataframe tbody tr th:only-of-type {\n",
       "        vertical-align: middle;\n",
       "    }\n",
       "\n",
       "    .dataframe tbody tr th {\n",
       "        vertical-align: top;\n",
       "    }\n",
       "\n",
       "    .dataframe thead th {\n",
       "        text-align: right;\n",
       "    }\n",
       "</style>\n",
       "<table border=\"1\" class=\"dataframe\">\n",
       "  <thead>\n",
       "    <tr style=\"text-align: right;\">\n",
       "      <th></th>\n",
       "      <th>key</th>\n",
       "      <th>fare_amount</th>\n",
       "      <th>pickup_datetime</th>\n",
       "      <th>pickup_longitude</th>\n",
       "      <th>pickup_latitude</th>\n",
       "      <th>dropoff_longitude</th>\n",
       "      <th>dropoff_latitude</th>\n",
       "      <th>passenger_count</th>\n",
       "    </tr>\n",
       "  </thead>\n",
       "  <tbody>\n",
       "    <tr>\n",
       "      <th>4949</th>\n",
       "      <td>2012-04-28 00:58:00.000000235</td>\n",
       "      <td>4.9</td>\n",
       "      <td>2012-04-28 00:58:00 UTC</td>\n",
       "      <td>-748.016667</td>\n",
       "      <td>40.739957</td>\n",
       "      <td>-74.003570</td>\n",
       "      <td>40.734192</td>\n",
       "      <td>1</td>\n",
       "    </tr>\n",
       "    <tr>\n",
       "      <th>32549</th>\n",
       "      <td>2012-06-16 10:04:00.00000061</td>\n",
       "      <td>15.7</td>\n",
       "      <td>2012-06-16 10:04:00 UTC</td>\n",
       "      <td>-74.016055</td>\n",
       "      <td>40.715155</td>\n",
       "      <td>-737.916665</td>\n",
       "      <td>40.697862</td>\n",
       "      <td>2</td>\n",
       "    </tr>\n",
       "    <tr>\n",
       "      <th>48506</th>\n",
       "      <td>2011-11-05 23:26:00.000000309</td>\n",
       "      <td>33.7</td>\n",
       "      <td>2011-11-05 23:26:00 UTC</td>\n",
       "      <td>-735.200000</td>\n",
       "      <td>40.770092</td>\n",
       "      <td>-73.980187</td>\n",
       "      <td>40.765530</td>\n",
       "      <td>1</td>\n",
       "    </tr>\n",
       "    <tr>\n",
       "      <th>56617</th>\n",
       "      <td>2012-03-11 07:24:00.00000031</td>\n",
       "      <td>8.1</td>\n",
       "      <td>2012-03-11 07:24:00 UTC</td>\n",
       "      <td>-73.960828</td>\n",
       "      <td>404.433332</td>\n",
       "      <td>-73.988357</td>\n",
       "      <td>40.769037</td>\n",
       "      <td>1</td>\n",
       "    </tr>\n",
       "    <tr>\n",
       "      <th>61793</th>\n",
       "      <td>2012-06-13 05:45:00.0000006</td>\n",
       "      <td>8.5</td>\n",
       "      <td>2012-06-13 05:45:00 UTC</td>\n",
       "      <td>-73.951385</td>\n",
       "      <td>401.066667</td>\n",
       "      <td>-73.982110</td>\n",
       "      <td>40.754117</td>\n",
       "      <td>1</td>\n",
       "    </tr>\n",
       "    <tr>\n",
       "      <th>75851</th>\n",
       "      <td>2011-11-05 00:22:00.00000051</td>\n",
       "      <td>15.7</td>\n",
       "      <td>2011-11-05 00:22:00 UTC</td>\n",
       "      <td>-1340.648410</td>\n",
       "      <td>1644.421482</td>\n",
       "      <td>-3356.666300</td>\n",
       "      <td>872.697628</td>\n",
       "      <td>1</td>\n",
       "    </tr>\n",
       "    <tr>\n",
       "      <th>91422</th>\n",
       "      <td>2011-05-18 13:24:00.000000213</td>\n",
       "      <td>16.1</td>\n",
       "      <td>2011-05-18 13:24:00 UTC</td>\n",
       "      <td>57.418457</td>\n",
       "      <td>1292.016128</td>\n",
       "      <td>1153.572603</td>\n",
       "      <td>-881.985513</td>\n",
       "      <td>1</td>\n",
       "    </tr>\n",
       "    <tr>\n",
       "      <th>103745</th>\n",
       "      <td>2011-10-14 19:04:00.000000202</td>\n",
       "      <td>12.9</td>\n",
       "      <td>2011-10-14 19:04:00 UTC</td>\n",
       "      <td>-736.216667</td>\n",
       "      <td>40.767035</td>\n",
       "      <td>-73.982377</td>\n",
       "      <td>40.725562</td>\n",
       "      <td>1</td>\n",
       "    </tr>\n",
       "    <tr>\n",
       "      <th>139447</th>\n",
       "      <td>2012-01-20 11:50:00.00000088</td>\n",
       "      <td>13.7</td>\n",
       "      <td>2012-01-20 11:50:00 UTC</td>\n",
       "      <td>-74.011042</td>\n",
       "      <td>40.709780</td>\n",
       "      <td>-73.983163</td>\n",
       "      <td>493.533332</td>\n",
       "      <td>4</td>\n",
       "    </tr>\n",
       "    <tr>\n",
       "      <th>144253</th>\n",
       "      <td>2009-08-26 11:55:00.00000023</td>\n",
       "      <td>7.3</td>\n",
       "      <td>2009-08-26 11:55:00 UTC</td>\n",
       "      <td>-768.550000</td>\n",
       "      <td>40.757812</td>\n",
       "      <td>-73.997040</td>\n",
       "      <td>40.740007</td>\n",
       "      <td>1</td>\n",
       "    </tr>\n",
       "    <tr>\n",
       "      <th>161652</th>\n",
       "      <td>2010-05-12 12:19:00.00000098</td>\n",
       "      <td>4.1</td>\n",
       "      <td>2010-05-12 12:19:00 UTC</td>\n",
       "      <td>-735.433332</td>\n",
       "      <td>40.740605</td>\n",
       "      <td>-74.006373</td>\n",
       "      <td>40.739607</td>\n",
       "      <td>1</td>\n",
       "    </tr>\n",
       "    <tr>\n",
       "      <th>199936</th>\n",
       "      <td>2012-07-21 16:19:00.00000099</td>\n",
       "      <td>4.1</td>\n",
       "      <td>2012-07-21 16:19:00 UTC</td>\n",
       "      <td>-736.400000</td>\n",
       "      <td>40.774307</td>\n",
       "      <td>-73.982215</td>\n",
       "      <td>40.769672</td>\n",
       "      <td>5</td>\n",
       "    </tr>\n",
       "  </tbody>\n",
       "</table>\n",
       "</div>"
      ],
      "text/plain": [
       "                                  key  fare_amount          pickup_datetime  \\\n",
       "4949    2012-04-28 00:58:00.000000235          4.9  2012-04-28 00:58:00 UTC   \n",
       "32549    2012-06-16 10:04:00.00000061         15.7  2012-06-16 10:04:00 UTC   \n",
       "48506   2011-11-05 23:26:00.000000309         33.7  2011-11-05 23:26:00 UTC   \n",
       "56617    2012-03-11 07:24:00.00000031          8.1  2012-03-11 07:24:00 UTC   \n",
       "61793     2012-06-13 05:45:00.0000006          8.5  2012-06-13 05:45:00 UTC   \n",
       "75851    2011-11-05 00:22:00.00000051         15.7  2011-11-05 00:22:00 UTC   \n",
       "91422   2011-05-18 13:24:00.000000213         16.1  2011-05-18 13:24:00 UTC   \n",
       "103745  2011-10-14 19:04:00.000000202         12.9  2011-10-14 19:04:00 UTC   \n",
       "139447   2012-01-20 11:50:00.00000088         13.7  2012-01-20 11:50:00 UTC   \n",
       "144253   2009-08-26 11:55:00.00000023          7.3  2009-08-26 11:55:00 UTC   \n",
       "161652   2010-05-12 12:19:00.00000098          4.1  2010-05-12 12:19:00 UTC   \n",
       "199936   2012-07-21 16:19:00.00000099          4.1  2012-07-21 16:19:00 UTC   \n",
       "\n",
       "        pickup_longitude  pickup_latitude  dropoff_longitude  \\\n",
       "4949         -748.016667        40.739957         -74.003570   \n",
       "32549         -74.016055        40.715155        -737.916665   \n",
       "48506        -735.200000        40.770092         -73.980187   \n",
       "56617         -73.960828       404.433332         -73.988357   \n",
       "61793         -73.951385       401.066667         -73.982110   \n",
       "75851       -1340.648410      1644.421482       -3356.666300   \n",
       "91422          57.418457      1292.016128        1153.572603   \n",
       "103745       -736.216667        40.767035         -73.982377   \n",
       "139447        -74.011042        40.709780         -73.983163   \n",
       "144253       -768.550000        40.757812         -73.997040   \n",
       "161652       -735.433332        40.740605         -74.006373   \n",
       "199936       -736.400000        40.774307         -73.982215   \n",
       "\n",
       "        dropoff_latitude  passenger_count  \n",
       "4949           40.734192                1  \n",
       "32549          40.697862                2  \n",
       "48506          40.765530                1  \n",
       "56617          40.769037                1  \n",
       "61793          40.754117                1  \n",
       "75851         872.697628                1  \n",
       "91422        -881.985513                1  \n",
       "103745         40.725562                1  \n",
       "139447        493.533332                4  \n",
       "144253         40.740007                1  \n",
       "161652         40.739607                1  \n",
       "199936         40.769672                5  "
      ]
     },
     "execution_count": 91,
     "metadata": {},
     "output_type": "execute_result"
    }
   ],
   "source": [
    "df[(df['pickup_longitude'] < -180) | (df['pickup_longitude'] > 180) | (df['dropoff_longitude'] > 180) | (df['dropoff_longitude'] < -180) | (df['pickup_latitude'] < -90) | (df['pickup_latitude'] > 90) | (df['dropoff_latitude'] > 90) | (df['dropoff_latitude'] < -90)]"
   ]
  },
  {
   "cell_type": "code",
   "execution_count": 92,
   "id": "95a6bac8",
   "metadata": {},
   "outputs": [
    {
     "data": {
      "text/plain": [
       "Int64Index([  4949,  32549,  48506,  56617,  61793,  75851,  91422, 103745,\n",
       "            139447, 144253, 161652, 199936],\n",
       "           dtype='int64')"
      ]
     },
     "execution_count": 92,
     "metadata": {},
     "output_type": "execute_result"
    }
   ],
   "source": [
    "drop_index = df[(df['pickup_longitude'] < -180) | (df['pickup_longitude'] > 180) | (df['dropoff_longitude'] > 180) | (df['dropoff_longitude'] < -180) | (df['pickup_latitude'] < -90) | (df['pickup_latitude'] > 90) | (df['dropoff_latitude'] > 90) | (df['dropoff_latitude'] < -90)].index\n",
    "\n",
    "drop_index"
   ]
  },
  {
   "cell_type": "code",
   "execution_count": 93,
   "id": "08ec2cff",
   "metadata": {},
   "outputs": [],
   "source": [
    "df.drop(index = drop_index, axis = 0, inplace = True)"
   ]
  },
  {
   "cell_type": "code",
   "execution_count": 94,
   "id": "e2c22515",
   "metadata": {},
   "outputs": [
    {
     "data": {
      "text/html": [
       "<div>\n",
       "<style scoped>\n",
       "    .dataframe tbody tr th:only-of-type {\n",
       "        vertical-align: middle;\n",
       "    }\n",
       "\n",
       "    .dataframe tbody tr th {\n",
       "        vertical-align: top;\n",
       "    }\n",
       "\n",
       "    .dataframe thead th {\n",
       "        text-align: right;\n",
       "    }\n",
       "</style>\n",
       "<table border=\"1\" class=\"dataframe\">\n",
       "  <thead>\n",
       "    <tr style=\"text-align: right;\">\n",
       "      <th></th>\n",
       "      <th>key</th>\n",
       "      <th>fare_amount</th>\n",
       "      <th>pickup_datetime</th>\n",
       "      <th>pickup_longitude</th>\n",
       "      <th>pickup_latitude</th>\n",
       "      <th>dropoff_longitude</th>\n",
       "      <th>dropoff_latitude</th>\n",
       "      <th>passenger_count</th>\n",
       "    </tr>\n",
       "  </thead>\n",
       "  <tbody>\n",
       "  </tbody>\n",
       "</table>\n",
       "</div>"
      ],
      "text/plain": [
       "Empty DataFrame\n",
       "Columns: [key, fare_amount, pickup_datetime, pickup_longitude, pickup_latitude, dropoff_longitude, dropoff_latitude, passenger_count]\n",
       "Index: []"
      ]
     },
     "execution_count": 94,
     "metadata": {},
     "output_type": "execute_result"
    }
   ],
   "source": [
    "df[(df['pickup_longitude'] < -180) | (df['pickup_longitude'] > 180) | (df['dropoff_longitude'] > 180) | (df['dropoff_longitude'] < -180) | (df['pickup_latitude'] < -90) | (df['pickup_latitude'] > 90) | (df['dropoff_latitude'] > 90) | (df['dropoff_latitude'] < -90)]"
   ]
  },
  {
   "cell_type": "code",
   "execution_count": 95,
   "id": "b3bd8f0f",
   "metadata": {},
   "outputs": [],
   "source": [
    "def calculate_distance(long1, lati1, long2, lati2):\n",
    "    distance = []\n",
    "    \n",
    "    for i in range (len(list(pickup_longitude))):\n",
    "        \n",
    "        lon1,lat1,lon2,lat2 = map(mt.radians, [long1[i], lati1[i], long2[i], lati2[i]])\n",
    "        \n",
    "        x = abs(lat1 - lat2)\n",
    "        y = abs(lon1 - lon2)\n",
    "    \n",
    "        a = (mt.sin(x/2) ** 2) + mt.cos(lat1) * mt.cos(lat2) * (mt.sin(y/2) ** 2)\n",
    "        c = 2 * mt.atan2(np.sqrt(a), np.sqrt(1-a))\n",
    "        distance.append(6371 * c)\n",
    "    \n",
    "    return distance"
   ]
  },
  {
   "cell_type": "code",
   "execution_count": 96,
   "id": "3ad9f560",
   "metadata": {},
   "outputs": [],
   "source": [
    "pickup_longitude = np.asarray(df['pickup_longitude'])\n",
    "pickup_latitude\t = np.asarray(df['pickup_latitude'])\n",
    "dropoff_longitude = np.asarray(df['dropoff_longitude'])\n",
    "dropoff_latitude = np.asarray(df['dropoff_latitude'])"
   ]
  },
  {
   "cell_type": "code",
   "execution_count": 97,
   "id": "ea10e371",
   "metadata": {},
   "outputs": [],
   "source": [
    "df['Distance (km)'] = calculate_distance(pickup_longitude, pickup_latitude, dropoff_longitude, dropoff_latitude)"
   ]
  },
  {
   "cell_type": "code",
   "execution_count": 98,
   "id": "8cd10a92",
   "metadata": {},
   "outputs": [],
   "source": [
    "df.drop(columns = ['pickup_longitude', 'pickup_latitude', 'dropoff_longitude', 'dropoff_latitude'], axis = 1, inplace = True)"
   ]
  },
  {
   "cell_type": "code",
   "execution_count": 99,
   "id": "c9cf6544",
   "metadata": {
    "scrolled": false
   },
   "outputs": [
    {
     "data": {
      "text/plain": [
       "(199987, 5)"
      ]
     },
     "execution_count": 99,
     "metadata": {},
     "output_type": "execute_result"
    }
   ],
   "source": [
    "df.shape"
   ]
  },
  {
   "cell_type": "markdown",
   "id": "32868457",
   "metadata": {},
   "source": [
    "Now it has 199,987 rows and 5 columns. "
   ]
  },
  {
   "cell_type": "markdown",
   "id": "9f552ebb",
   "metadata": {},
   "source": [
    "The maximum number of passengers allowed in an Uber vehicle can vary depending on the type of Uber service and the vehicle being used. In most standard Uber services but the maximum number of passengers is typically 6."
   ]
  },
  {
   "cell_type": "code",
   "execution_count": 100,
   "id": "ef5e81cb",
   "metadata": {},
   "outputs": [
    {
     "data": {
      "text/html": [
       "<div>\n",
       "<style scoped>\n",
       "    .dataframe tbody tr th:only-of-type {\n",
       "        vertical-align: middle;\n",
       "    }\n",
       "\n",
       "    .dataframe tbody tr th {\n",
       "        vertical-align: top;\n",
       "    }\n",
       "\n",
       "    .dataframe thead th {\n",
       "        text-align: right;\n",
       "    }\n",
       "</style>\n",
       "<table border=\"1\" class=\"dataframe\">\n",
       "  <thead>\n",
       "    <tr style=\"text-align: right;\">\n",
       "      <th></th>\n",
       "      <th>key</th>\n",
       "      <th>fare_amount</th>\n",
       "      <th>pickup_datetime</th>\n",
       "      <th>passenger_count</th>\n",
       "      <th>Distance (km)</th>\n",
       "    </tr>\n",
       "  </thead>\n",
       "  <tbody>\n",
       "    <tr>\n",
       "      <th>113038</th>\n",
       "      <td>2010-12-28 08:20:00.0000001</td>\n",
       "      <td>11.7</td>\n",
       "      <td>2010-12-28 08:20:00 UTC</td>\n",
       "      <td>208</td>\n",
       "      <td>0.009825</td>\n",
       "    </tr>\n",
       "  </tbody>\n",
       "</table>\n",
       "</div>"
      ],
      "text/plain": [
       "                                key  fare_amount          pickup_datetime  \\\n",
       "113038  2010-12-28 08:20:00.0000001         11.7  2010-12-28 08:20:00 UTC   \n",
       "\n",
       "        passenger_count  Distance (km)  \n",
       "113038              208       0.009825  "
      ]
     },
     "execution_count": 100,
     "metadata": {},
     "output_type": "execute_result"
    }
   ],
   "source": [
    "df[df['passenger_count'] > 6]"
   ]
  },
  {
   "cell_type": "code",
   "execution_count": 101,
   "id": "c56ff67c",
   "metadata": {},
   "outputs": [
    {
     "name": "stdout",
     "output_type": "stream",
     "text": [
      "Int64Index([113038], dtype='int64')\n"
     ]
    }
   ],
   "source": [
    "drop_index = df[df['passenger_count'] > 6].index\n",
    "\n",
    "print(drop_index)"
   ]
  },
  {
   "cell_type": "code",
   "execution_count": 102,
   "id": "0bb0c3bd",
   "metadata": {},
   "outputs": [],
   "source": [
    "df.drop(index = drop_index, axis = 0, inplace = True)"
   ]
  },
  {
   "cell_type": "code",
   "execution_count": 103,
   "id": "80144a76",
   "metadata": {},
   "outputs": [
    {
     "data": {
      "text/html": [
       "<div>\n",
       "<style scoped>\n",
       "    .dataframe tbody tr th:only-of-type {\n",
       "        vertical-align: middle;\n",
       "    }\n",
       "\n",
       "    .dataframe tbody tr th {\n",
       "        vertical-align: top;\n",
       "    }\n",
       "\n",
       "    .dataframe thead th {\n",
       "        text-align: right;\n",
       "    }\n",
       "</style>\n",
       "<table border=\"1\" class=\"dataframe\">\n",
       "  <thead>\n",
       "    <tr style=\"text-align: right;\">\n",
       "      <th></th>\n",
       "      <th>key</th>\n",
       "      <th>fare_amount</th>\n",
       "      <th>pickup_datetime</th>\n",
       "      <th>passenger_count</th>\n",
       "      <th>Distance (km)</th>\n",
       "    </tr>\n",
       "  </thead>\n",
       "  <tbody>\n",
       "  </tbody>\n",
       "</table>\n",
       "</div>"
      ],
      "text/plain": [
       "Empty DataFrame\n",
       "Columns: [key, fare_amount, pickup_datetime, passenger_count, Distance (km)]\n",
       "Index: []"
      ]
     },
     "execution_count": 103,
     "metadata": {},
     "output_type": "execute_result"
    }
   ],
   "source": [
    "df[df['passenger_count'] > 6]"
   ]
  },
  {
   "cell_type": "code",
   "execution_count": 104,
   "id": "357b24b3",
   "metadata": {
    "scrolled": true
   },
   "outputs": [
    {
     "data": {
      "text/html": [
       "<div>\n",
       "<style scoped>\n",
       "    .dataframe tbody tr th:only-of-type {\n",
       "        vertical-align: middle;\n",
       "    }\n",
       "\n",
       "    .dataframe tbody tr th {\n",
       "        vertical-align: top;\n",
       "    }\n",
       "\n",
       "    .dataframe thead th {\n",
       "        text-align: right;\n",
       "    }\n",
       "</style>\n",
       "<table border=\"1\" class=\"dataframe\">\n",
       "  <thead>\n",
       "    <tr style=\"text-align: right;\">\n",
       "      <th></th>\n",
       "      <th>key</th>\n",
       "      <th>fare_amount</th>\n",
       "      <th>pickup_datetime</th>\n",
       "      <th>passenger_count</th>\n",
       "      <th>Distance (km)</th>\n",
       "    </tr>\n",
       "  </thead>\n",
       "  <tbody>\n",
       "    <tr>\n",
       "      <th>22182</th>\n",
       "      <td>2010-03-20 02:59:51.0000002</td>\n",
       "      <td>0.0</td>\n",
       "      <td>2010-03-20 02:59:51 UTC</td>\n",
       "      <td>2</td>\n",
       "      <td>11.065289</td>\n",
       "    </tr>\n",
       "    <tr>\n",
       "      <th>87467</th>\n",
       "      <td>2015-01-04 03:51:13.0000002</td>\n",
       "      <td>0.0</td>\n",
       "      <td>2015-01-04 03:51:13 UTC</td>\n",
       "      <td>2</td>\n",
       "      <td>8665.983754</td>\n",
       "    </tr>\n",
       "    <tr>\n",
       "      <th>156738</th>\n",
       "      <td>2015-02-17 08:48:08.0000005</td>\n",
       "      <td>0.0</td>\n",
       "      <td>2015-02-17 08:48:08 UTC</td>\n",
       "      <td>1</td>\n",
       "      <td>0.000643</td>\n",
       "    </tr>\n",
       "  </tbody>\n",
       "</table>\n",
       "</div>"
      ],
      "text/plain": [
       "                                key  fare_amount          pickup_datetime  \\\n",
       "22182   2010-03-20 02:59:51.0000002          0.0  2010-03-20 02:59:51 UTC   \n",
       "87467   2015-01-04 03:51:13.0000002          0.0  2015-01-04 03:51:13 UTC   \n",
       "156738  2015-02-17 08:48:08.0000005          0.0  2015-02-17 08:48:08 UTC   \n",
       "\n",
       "        passenger_count  Distance (km)  \n",
       "22182                 2      11.065289  \n",
       "87467                 2    8665.983754  \n",
       "156738                1       0.000643  "
      ]
     },
     "execution_count": 104,
     "metadata": {},
     "output_type": "execute_result"
    }
   ],
   "source": [
    "df[~((df['Distance (km)'] == 0 ) & (df['fare_amount'] == 0)) & ((df['fare_amount'] == 0))]"
   ]
  },
  {
   "cell_type": "markdown",
   "id": "10cbd458",
   "metadata": {},
   "source": [
    "If \tDistance (km) > 0 , fare_amount can not be 0."
   ]
  },
  {
   "cell_type": "code",
   "execution_count": 105,
   "id": "a5edc51e",
   "metadata": {},
   "outputs": [
    {
     "name": "stdout",
     "output_type": "stream",
     "text": [
      "Int64Index([22182, 87467, 156738], dtype='int64')\n"
     ]
    }
   ],
   "source": [
    "drop_index = df[~((df['Distance (km)'] == 0 ) & (df['fare_amount'] == 0)) & ((df['fare_amount'] == 0))].index\n",
    "\n",
    "print(drop_index)"
   ]
  },
  {
   "cell_type": "code",
   "execution_count": 106,
   "id": "b0b9f054",
   "metadata": {},
   "outputs": [],
   "source": [
    "df.drop(index = drop_index, axis = 0, inplace = True)"
   ]
  },
  {
   "cell_type": "code",
   "execution_count": 107,
   "id": "f284331f",
   "metadata": {
    "scrolled": true
   },
   "outputs": [
    {
     "data": {
      "text/html": [
       "<div>\n",
       "<style scoped>\n",
       "    .dataframe tbody tr th:only-of-type {\n",
       "        vertical-align: middle;\n",
       "    }\n",
       "\n",
       "    .dataframe tbody tr th {\n",
       "        vertical-align: top;\n",
       "    }\n",
       "\n",
       "    .dataframe thead th {\n",
       "        text-align: right;\n",
       "    }\n",
       "</style>\n",
       "<table border=\"1\" class=\"dataframe\">\n",
       "  <thead>\n",
       "    <tr style=\"text-align: right;\">\n",
       "      <th></th>\n",
       "      <th>key</th>\n",
       "      <th>fare_amount</th>\n",
       "      <th>pickup_datetime</th>\n",
       "      <th>passenger_count</th>\n",
       "      <th>Distance (km)</th>\n",
       "    </tr>\n",
       "  </thead>\n",
       "  <tbody>\n",
       "  </tbody>\n",
       "</table>\n",
       "</div>"
      ],
      "text/plain": [
       "Empty DataFrame\n",
       "Columns: [key, fare_amount, pickup_datetime, passenger_count, Distance (km)]\n",
       "Index: []"
      ]
     },
     "execution_count": 107,
     "metadata": {},
     "output_type": "execute_result"
    }
   ],
   "source": [
    "df[~((df['Distance (km)'] == 0 ) & (df['fare_amount'] == 0)) & ((df['fare_amount'] == 0))]"
   ]
  },
  {
   "cell_type": "markdown",
   "id": "b108672e",
   "metadata": {},
   "source": [
    "If Distance (km) = 0 , fare_amount can not be greater than 0."
   ]
  },
  {
   "cell_type": "code",
   "execution_count": 108,
   "id": "c1dd84e3",
   "metadata": {
    "scrolled": true
   },
   "outputs": [
    {
     "data": {
      "text/html": [
       "<div>\n",
       "<style scoped>\n",
       "    .dataframe tbody tr th:only-of-type {\n",
       "        vertical-align: middle;\n",
       "    }\n",
       "\n",
       "    .dataframe tbody tr th {\n",
       "        vertical-align: top;\n",
       "    }\n",
       "\n",
       "    .dataframe thead th {\n",
       "        text-align: right;\n",
       "    }\n",
       "</style>\n",
       "<table border=\"1\" class=\"dataframe\">\n",
       "  <thead>\n",
       "    <tr style=\"text-align: right;\">\n",
       "      <th></th>\n",
       "      <th>key</th>\n",
       "      <th>fare_amount</th>\n",
       "      <th>pickup_datetime</th>\n",
       "      <th>passenger_count</th>\n",
       "      <th>Distance (km)</th>\n",
       "    </tr>\n",
       "  </thead>\n",
       "  <tbody>\n",
       "    <tr>\n",
       "      <th>5</th>\n",
       "      <td>2011-02-12 02:27:09.0000006</td>\n",
       "      <td>4.9</td>\n",
       "      <td>2011-02-12 02:27:09 UTC</td>\n",
       "      <td>1</td>\n",
       "      <td>0.0</td>\n",
       "    </tr>\n",
       "    <tr>\n",
       "      <th>7</th>\n",
       "      <td>2012-12-11 13:52:00.00000029</td>\n",
       "      <td>2.5</td>\n",
       "      <td>2012-12-11 13:52:00 UTC</td>\n",
       "      <td>1</td>\n",
       "      <td>0.0</td>\n",
       "    </tr>\n",
       "    <tr>\n",
       "      <th>11</th>\n",
       "      <td>2011-05-23 22:15:00.00000086</td>\n",
       "      <td>8.5</td>\n",
       "      <td>2011-05-23 22:15:00 UTC</td>\n",
       "      <td>1</td>\n",
       "      <td>0.0</td>\n",
       "    </tr>\n",
       "    <tr>\n",
       "      <th>48</th>\n",
       "      <td>2013-01-03 22:24:41.0000002</td>\n",
       "      <td>56.8</td>\n",
       "      <td>2013-01-03 22:24:41 UTC</td>\n",
       "      <td>1</td>\n",
       "      <td>0.0</td>\n",
       "    </tr>\n",
       "    <tr>\n",
       "      <th>65</th>\n",
       "      <td>2014-05-05 19:27:00.00000034</td>\n",
       "      <td>6.0</td>\n",
       "      <td>2014-05-05 19:27:00 UTC</td>\n",
       "      <td>1</td>\n",
       "      <td>0.0</td>\n",
       "    </tr>\n",
       "    <tr>\n",
       "      <th>...</th>\n",
       "      <td>...</td>\n",
       "      <td>...</td>\n",
       "      <td>...</td>\n",
       "      <td>...</td>\n",
       "      <td>...</td>\n",
       "    </tr>\n",
       "    <tr>\n",
       "      <th>199880</th>\n",
       "      <td>2014-02-22 06:45:46.0000002</td>\n",
       "      <td>6.5</td>\n",
       "      <td>2014-02-22 06:45:46 UTC</td>\n",
       "      <td>1</td>\n",
       "      <td>0.0</td>\n",
       "    </tr>\n",
       "    <tr>\n",
       "      <th>199883</th>\n",
       "      <td>2012-09-10 17:39:00.00000090</td>\n",
       "      <td>12.5</td>\n",
       "      <td>2012-09-10 17:39:00 UTC</td>\n",
       "      <td>2</td>\n",
       "      <td>0.0</td>\n",
       "    </tr>\n",
       "    <tr>\n",
       "      <th>199917</th>\n",
       "      <td>2013-06-24 22:17:43.0000002</td>\n",
       "      <td>4.5</td>\n",
       "      <td>2013-06-24 22:17:43 UTC</td>\n",
       "      <td>1</td>\n",
       "      <td>0.0</td>\n",
       "    </tr>\n",
       "    <tr>\n",
       "      <th>199932</th>\n",
       "      <td>2011-03-22 13:59:00.00000018</td>\n",
       "      <td>24.9</td>\n",
       "      <td>2011-03-22 13:59:00 UTC</td>\n",
       "      <td>5</td>\n",
       "      <td>0.0</td>\n",
       "    </tr>\n",
       "    <tr>\n",
       "      <th>199963</th>\n",
       "      <td>2012-09-22 07:46:01.0000002</td>\n",
       "      <td>39.0</td>\n",
       "      <td>2012-09-22 07:46:01 UTC</td>\n",
       "      <td>1</td>\n",
       "      <td>0.0</td>\n",
       "    </tr>\n",
       "  </tbody>\n",
       "</table>\n",
       "<p>5630 rows × 5 columns</p>\n",
       "</div>"
      ],
      "text/plain": [
       "                                 key  fare_amount          pickup_datetime  \\\n",
       "5        2011-02-12 02:27:09.0000006          4.9  2011-02-12 02:27:09 UTC   \n",
       "7       2012-12-11 13:52:00.00000029          2.5  2012-12-11 13:52:00 UTC   \n",
       "11      2011-05-23 22:15:00.00000086          8.5  2011-05-23 22:15:00 UTC   \n",
       "48       2013-01-03 22:24:41.0000002         56.8  2013-01-03 22:24:41 UTC   \n",
       "65      2014-05-05 19:27:00.00000034          6.0  2014-05-05 19:27:00 UTC   \n",
       "...                              ...          ...                      ...   \n",
       "199880   2014-02-22 06:45:46.0000002          6.5  2014-02-22 06:45:46 UTC   \n",
       "199883  2012-09-10 17:39:00.00000090         12.5  2012-09-10 17:39:00 UTC   \n",
       "199917   2013-06-24 22:17:43.0000002          4.5  2013-06-24 22:17:43 UTC   \n",
       "199932  2011-03-22 13:59:00.00000018         24.9  2011-03-22 13:59:00 UTC   \n",
       "199963   2012-09-22 07:46:01.0000002         39.0  2012-09-22 07:46:01 UTC   \n",
       "\n",
       "        passenger_count  Distance (km)  \n",
       "5                     1            0.0  \n",
       "7                     1            0.0  \n",
       "11                    1            0.0  \n",
       "48                    1            0.0  \n",
       "65                    1            0.0  \n",
       "...                 ...            ...  \n",
       "199880                1            0.0  \n",
       "199883                2            0.0  \n",
       "199917                1            0.0  \n",
       "199932                5            0.0  \n",
       "199963                1            0.0  \n",
       "\n",
       "[5630 rows x 5 columns]"
      ]
     },
     "execution_count": 108,
     "metadata": {},
     "output_type": "execute_result"
    }
   ],
   "source": [
    "df1 = df[~((df['Distance (km)'] == 0 ) & (df['fare_amount'] == 0)) & ((df['Distance (km)'] == 0 ) & (df['fare_amount'] >= 0))]\n",
    "df1"
   ]
  },
  {
   "cell_type": "code",
   "execution_count": 109,
   "id": "d07f5dd6",
   "metadata": {},
   "outputs": [],
   "source": [
    "to_drop = df[~((df['Distance (km)'] == 0 ) & (df['fare_amount'] == 0)) & ((df['Distance (km)'] == 0 ) & (df['fare_amount'] >= 0))].index"
   ]
  },
  {
   "cell_type": "code",
   "execution_count": 110,
   "id": "7b87c7f4",
   "metadata": {},
   "outputs": [],
   "source": [
    "df.drop(index = to_drop, axis = 0, inplace = True)"
   ]
  },
  {
   "cell_type": "code",
   "execution_count": 111,
   "id": "fcc8df0b",
   "metadata": {},
   "outputs": [
    {
     "data": {
      "text/html": [
       "<div>\n",
       "<style scoped>\n",
       "    .dataframe tbody tr th:only-of-type {\n",
       "        vertical-align: middle;\n",
       "    }\n",
       "\n",
       "    .dataframe tbody tr th {\n",
       "        vertical-align: top;\n",
       "    }\n",
       "\n",
       "    .dataframe thead th {\n",
       "        text-align: right;\n",
       "    }\n",
       "</style>\n",
       "<table border=\"1\" class=\"dataframe\">\n",
       "  <thead>\n",
       "    <tr style=\"text-align: right;\">\n",
       "      <th></th>\n",
       "      <th>key</th>\n",
       "      <th>fare_amount</th>\n",
       "      <th>pickup_datetime</th>\n",
       "      <th>passenger_count</th>\n",
       "      <th>Distance (km)</th>\n",
       "    </tr>\n",
       "  </thead>\n",
       "  <tbody>\n",
       "  </tbody>\n",
       "</table>\n",
       "</div>"
      ],
      "text/plain": [
       "Empty DataFrame\n",
       "Columns: [key, fare_amount, pickup_datetime, passenger_count, Distance (km)]\n",
       "Index: []"
      ]
     },
     "execution_count": 111,
     "metadata": {},
     "output_type": "execute_result"
    }
   ],
   "source": [
    "df[~((df['Distance (km)'] == 0 ) & (df['fare_amount'] == 0)) & ((df['Distance (km)'] == 0 ) & (df['fare_amount'] >= 0))]"
   ]
  },
  {
   "cell_type": "code",
   "execution_count": 112,
   "id": "0a38872a",
   "metadata": {},
   "outputs": [],
   "source": [
    "df['pickup_date'] = df['pickup_datetime'].str.split(' ', expand = True)[0]\n",
    "df['pickup_time'] = df['pickup_datetime'].str.split(' ', expand = True)[1]"
   ]
  },
  {
   "cell_type": "code",
   "execution_count": 113,
   "id": "ab63dee8",
   "metadata": {},
   "outputs": [
    {
     "data": {
      "text/html": [
       "<div>\n",
       "<style scoped>\n",
       "    .dataframe tbody tr th:only-of-type {\n",
       "        vertical-align: middle;\n",
       "    }\n",
       "\n",
       "    .dataframe tbody tr th {\n",
       "        vertical-align: top;\n",
       "    }\n",
       "\n",
       "    .dataframe thead th {\n",
       "        text-align: right;\n",
       "    }\n",
       "</style>\n",
       "<table border=\"1\" class=\"dataframe\">\n",
       "  <thead>\n",
       "    <tr style=\"text-align: right;\">\n",
       "      <th></th>\n",
       "      <th>key</th>\n",
       "      <th>fare_amount</th>\n",
       "      <th>pickup_datetime</th>\n",
       "      <th>passenger_count</th>\n",
       "      <th>Distance (km)</th>\n",
       "      <th>pickup_date</th>\n",
       "      <th>pickup_time</th>\n",
       "    </tr>\n",
       "  </thead>\n",
       "  <tbody>\n",
       "    <tr>\n",
       "      <th>0</th>\n",
       "      <td>2015-05-07 19:52:06.0000003</td>\n",
       "      <td>7.5</td>\n",
       "      <td>2015-05-07 19:52:06 UTC</td>\n",
       "      <td>1</td>\n",
       "      <td>1.683323</td>\n",
       "      <td>2015-05-07</td>\n",
       "      <td>19:52:06</td>\n",
       "    </tr>\n",
       "    <tr>\n",
       "      <th>1</th>\n",
       "      <td>2009-07-17 20:04:56.0000002</td>\n",
       "      <td>7.7</td>\n",
       "      <td>2009-07-17 20:04:56 UTC</td>\n",
       "      <td>1</td>\n",
       "      <td>2.457590</td>\n",
       "      <td>2009-07-17</td>\n",
       "      <td>20:04:56</td>\n",
       "    </tr>\n",
       "    <tr>\n",
       "      <th>2</th>\n",
       "      <td>2009-08-24 21:45:00.00000061</td>\n",
       "      <td>12.9</td>\n",
       "      <td>2009-08-24 21:45:00 UTC</td>\n",
       "      <td>1</td>\n",
       "      <td>5.036377</td>\n",
       "      <td>2009-08-24</td>\n",
       "      <td>21:45:00</td>\n",
       "    </tr>\n",
       "    <tr>\n",
       "      <th>3</th>\n",
       "      <td>2009-06-26 08:22:21.0000001</td>\n",
       "      <td>5.3</td>\n",
       "      <td>2009-06-26 08:22:21 UTC</td>\n",
       "      <td>3</td>\n",
       "      <td>1.661683</td>\n",
       "      <td>2009-06-26</td>\n",
       "      <td>08:22:21</td>\n",
       "    </tr>\n",
       "    <tr>\n",
       "      <th>4</th>\n",
       "      <td>2014-08-28 17:47:00.000000188</td>\n",
       "      <td>16.0</td>\n",
       "      <td>2014-08-28 17:47:00 UTC</td>\n",
       "      <td>5</td>\n",
       "      <td>4.475450</td>\n",
       "      <td>2014-08-28</td>\n",
       "      <td>17:47:00</td>\n",
       "    </tr>\n",
       "  </tbody>\n",
       "</table>\n",
       "</div>"
      ],
      "text/plain": [
       "                             key  fare_amount          pickup_datetime  \\\n",
       "0    2015-05-07 19:52:06.0000003          7.5  2015-05-07 19:52:06 UTC   \n",
       "1    2009-07-17 20:04:56.0000002          7.7  2009-07-17 20:04:56 UTC   \n",
       "2   2009-08-24 21:45:00.00000061         12.9  2009-08-24 21:45:00 UTC   \n",
       "3    2009-06-26 08:22:21.0000001          5.3  2009-06-26 08:22:21 UTC   \n",
       "4  2014-08-28 17:47:00.000000188         16.0  2014-08-28 17:47:00 UTC   \n",
       "\n",
       "   passenger_count  Distance (km) pickup_date pickup_time  \n",
       "0                1       1.683323  2015-05-07    19:52:06  \n",
       "1                1       2.457590  2009-07-17    20:04:56  \n",
       "2                1       5.036377  2009-08-24    21:45:00  \n",
       "3                3       1.661683  2009-06-26    08:22:21  \n",
       "4                5       4.475450  2014-08-28    17:47:00  "
      ]
     },
     "execution_count": 113,
     "metadata": {},
     "output_type": "execute_result"
    }
   ],
   "source": [
    "df.head()"
   ]
  },
  {
   "cell_type": "code",
   "execution_count": 114,
   "id": "39250790",
   "metadata": {},
   "outputs": [
    {
     "data": {
      "text/html": [
       "<div>\n",
       "<style scoped>\n",
       "    .dataframe tbody tr th:only-of-type {\n",
       "        vertical-align: middle;\n",
       "    }\n",
       "\n",
       "    .dataframe tbody tr th {\n",
       "        vertical-align: top;\n",
       "    }\n",
       "\n",
       "    .dataframe thead th {\n",
       "        text-align: right;\n",
       "    }\n",
       "</style>\n",
       "<table border=\"1\" class=\"dataframe\">\n",
       "  <thead>\n",
       "    <tr style=\"text-align: right;\">\n",
       "      <th></th>\n",
       "      <th>key</th>\n",
       "      <th>fare_amount</th>\n",
       "      <th>pickup_datetime</th>\n",
       "      <th>passenger_count</th>\n",
       "      <th>Distance (km)</th>\n",
       "      <th>pickup_date</th>\n",
       "      <th>pickup_time</th>\n",
       "      <th>pickup_month</th>\n",
       "      <th>pickup_day</th>\n",
       "    </tr>\n",
       "  </thead>\n",
       "  <tbody>\n",
       "    <tr>\n",
       "      <th>0</th>\n",
       "      <td>2015-05-07 19:52:06.0000003</td>\n",
       "      <td>7.5</td>\n",
       "      <td>2015-05-07 19:52:06 UTC</td>\n",
       "      <td>1</td>\n",
       "      <td>1.683323</td>\n",
       "      <td>2015-05-07</td>\n",
       "      <td>19:52:06</td>\n",
       "      <td>05</td>\n",
       "      <td>07</td>\n",
       "    </tr>\n",
       "    <tr>\n",
       "      <th>1</th>\n",
       "      <td>2009-07-17 20:04:56.0000002</td>\n",
       "      <td>7.7</td>\n",
       "      <td>2009-07-17 20:04:56 UTC</td>\n",
       "      <td>1</td>\n",
       "      <td>2.457590</td>\n",
       "      <td>2009-07-17</td>\n",
       "      <td>20:04:56</td>\n",
       "      <td>07</td>\n",
       "      <td>17</td>\n",
       "    </tr>\n",
       "    <tr>\n",
       "      <th>2</th>\n",
       "      <td>2009-08-24 21:45:00.00000061</td>\n",
       "      <td>12.9</td>\n",
       "      <td>2009-08-24 21:45:00 UTC</td>\n",
       "      <td>1</td>\n",
       "      <td>5.036377</td>\n",
       "      <td>2009-08-24</td>\n",
       "      <td>21:45:00</td>\n",
       "      <td>08</td>\n",
       "      <td>24</td>\n",
       "    </tr>\n",
       "    <tr>\n",
       "      <th>3</th>\n",
       "      <td>2009-06-26 08:22:21.0000001</td>\n",
       "      <td>5.3</td>\n",
       "      <td>2009-06-26 08:22:21 UTC</td>\n",
       "      <td>3</td>\n",
       "      <td>1.661683</td>\n",
       "      <td>2009-06-26</td>\n",
       "      <td>08:22:21</td>\n",
       "      <td>06</td>\n",
       "      <td>26</td>\n",
       "    </tr>\n",
       "    <tr>\n",
       "      <th>4</th>\n",
       "      <td>2014-08-28 17:47:00.000000188</td>\n",
       "      <td>16.0</td>\n",
       "      <td>2014-08-28 17:47:00 UTC</td>\n",
       "      <td>5</td>\n",
       "      <td>4.475450</td>\n",
       "      <td>2014-08-28</td>\n",
       "      <td>17:47:00</td>\n",
       "      <td>08</td>\n",
       "      <td>28</td>\n",
       "    </tr>\n",
       "  </tbody>\n",
       "</table>\n",
       "</div>"
      ],
      "text/plain": [
       "                             key  fare_amount          pickup_datetime  \\\n",
       "0    2015-05-07 19:52:06.0000003          7.5  2015-05-07 19:52:06 UTC   \n",
       "1    2009-07-17 20:04:56.0000002          7.7  2009-07-17 20:04:56 UTC   \n",
       "2   2009-08-24 21:45:00.00000061         12.9  2009-08-24 21:45:00 UTC   \n",
       "3    2009-06-26 08:22:21.0000001          5.3  2009-06-26 08:22:21 UTC   \n",
       "4  2014-08-28 17:47:00.000000188         16.0  2014-08-28 17:47:00 UTC   \n",
       "\n",
       "   passenger_count  Distance (km) pickup_date pickup_time pickup_month  \\\n",
       "0                1       1.683323  2015-05-07    19:52:06           05   \n",
       "1                1       2.457590  2009-07-17    20:04:56           07   \n",
       "2                1       5.036377  2009-08-24    21:45:00           08   \n",
       "3                3       1.661683  2009-06-26    08:22:21           06   \n",
       "4                5       4.475450  2014-08-28    17:47:00           08   \n",
       "\n",
       "  pickup_day  \n",
       "0         07  \n",
       "1         17  \n",
       "2         24  \n",
       "3         26  \n",
       "4         28  "
      ]
     },
     "execution_count": 114,
     "metadata": {},
     "output_type": "execute_result"
    }
   ],
   "source": [
    "df['pickup_month'] = df['pickup_date'].str.split('-', expand = True)[1]\n",
    "df['pickup_day'] = df['pickup_date'].str.split('-', expand = True)[2]\n",
    "df.head()"
   ]
  },
  {
   "cell_type": "code",
   "execution_count": 115,
   "id": "662d2b3e",
   "metadata": {},
   "outputs": [
    {
     "data": {
      "text/html": [
       "<div>\n",
       "<style scoped>\n",
       "    .dataframe tbody tr th:only-of-type {\n",
       "        vertical-align: middle;\n",
       "    }\n",
       "\n",
       "    .dataframe tbody tr th {\n",
       "        vertical-align: top;\n",
       "    }\n",
       "\n",
       "    .dataframe thead th {\n",
       "        text-align: right;\n",
       "    }\n",
       "</style>\n",
       "<table border=\"1\" class=\"dataframe\">\n",
       "  <thead>\n",
       "    <tr style=\"text-align: right;\">\n",
       "      <th></th>\n",
       "      <th>key</th>\n",
       "      <th>fare_amount</th>\n",
       "      <th>pickup_datetime</th>\n",
       "      <th>passenger_count</th>\n",
       "      <th>Distance (km)</th>\n",
       "      <th>pickup_date</th>\n",
       "      <th>pickup_time</th>\n",
       "      <th>pickup_month</th>\n",
       "      <th>pickup_day</th>\n",
       "      <th>pickup_hour</th>\n",
       "      <th>pickup_minute</th>\n",
       "    </tr>\n",
       "  </thead>\n",
       "  <tbody>\n",
       "    <tr>\n",
       "      <th>0</th>\n",
       "      <td>2015-05-07 19:52:06.0000003</td>\n",
       "      <td>7.5</td>\n",
       "      <td>2015-05-07 19:52:06 UTC</td>\n",
       "      <td>1</td>\n",
       "      <td>1.683323</td>\n",
       "      <td>2015-05-07</td>\n",
       "      <td>19:52:06</td>\n",
       "      <td>05</td>\n",
       "      <td>07</td>\n",
       "      <td>19</td>\n",
       "      <td>52</td>\n",
       "    </tr>\n",
       "    <tr>\n",
       "      <th>1</th>\n",
       "      <td>2009-07-17 20:04:56.0000002</td>\n",
       "      <td>7.7</td>\n",
       "      <td>2009-07-17 20:04:56 UTC</td>\n",
       "      <td>1</td>\n",
       "      <td>2.457590</td>\n",
       "      <td>2009-07-17</td>\n",
       "      <td>20:04:56</td>\n",
       "      <td>07</td>\n",
       "      <td>17</td>\n",
       "      <td>20</td>\n",
       "      <td>04</td>\n",
       "    </tr>\n",
       "    <tr>\n",
       "      <th>2</th>\n",
       "      <td>2009-08-24 21:45:00.00000061</td>\n",
       "      <td>12.9</td>\n",
       "      <td>2009-08-24 21:45:00 UTC</td>\n",
       "      <td>1</td>\n",
       "      <td>5.036377</td>\n",
       "      <td>2009-08-24</td>\n",
       "      <td>21:45:00</td>\n",
       "      <td>08</td>\n",
       "      <td>24</td>\n",
       "      <td>21</td>\n",
       "      <td>45</td>\n",
       "    </tr>\n",
       "    <tr>\n",
       "      <th>3</th>\n",
       "      <td>2009-06-26 08:22:21.0000001</td>\n",
       "      <td>5.3</td>\n",
       "      <td>2009-06-26 08:22:21 UTC</td>\n",
       "      <td>3</td>\n",
       "      <td>1.661683</td>\n",
       "      <td>2009-06-26</td>\n",
       "      <td>08:22:21</td>\n",
       "      <td>06</td>\n",
       "      <td>26</td>\n",
       "      <td>08</td>\n",
       "      <td>22</td>\n",
       "    </tr>\n",
       "    <tr>\n",
       "      <th>4</th>\n",
       "      <td>2014-08-28 17:47:00.000000188</td>\n",
       "      <td>16.0</td>\n",
       "      <td>2014-08-28 17:47:00 UTC</td>\n",
       "      <td>5</td>\n",
       "      <td>4.475450</td>\n",
       "      <td>2014-08-28</td>\n",
       "      <td>17:47:00</td>\n",
       "      <td>08</td>\n",
       "      <td>28</td>\n",
       "      <td>17</td>\n",
       "      <td>47</td>\n",
       "    </tr>\n",
       "  </tbody>\n",
       "</table>\n",
       "</div>"
      ],
      "text/plain": [
       "                             key  fare_amount          pickup_datetime  \\\n",
       "0    2015-05-07 19:52:06.0000003          7.5  2015-05-07 19:52:06 UTC   \n",
       "1    2009-07-17 20:04:56.0000002          7.7  2009-07-17 20:04:56 UTC   \n",
       "2   2009-08-24 21:45:00.00000061         12.9  2009-08-24 21:45:00 UTC   \n",
       "3    2009-06-26 08:22:21.0000001          5.3  2009-06-26 08:22:21 UTC   \n",
       "4  2014-08-28 17:47:00.000000188         16.0  2014-08-28 17:47:00 UTC   \n",
       "\n",
       "   passenger_count  Distance (km) pickup_date pickup_time pickup_month  \\\n",
       "0                1       1.683323  2015-05-07    19:52:06           05   \n",
       "1                1       2.457590  2009-07-17    20:04:56           07   \n",
       "2                1       5.036377  2009-08-24    21:45:00           08   \n",
       "3                3       1.661683  2009-06-26    08:22:21           06   \n",
       "4                5       4.475450  2014-08-28    17:47:00           08   \n",
       "\n",
       "  pickup_day pickup_hour pickup_minute  \n",
       "0         07          19            52  \n",
       "1         17          20            04  \n",
       "2         24          21            45  \n",
       "3         26          08            22  \n",
       "4         28          17            47  "
      ]
     },
     "execution_count": 115,
     "metadata": {},
     "output_type": "execute_result"
    }
   ],
   "source": [
    "df['pickup_hour'] = df['pickup_time'].str.split(':', expand = True)[0]\n",
    "df['pickup_minute'] = df['pickup_time'].str.split(':', expand = True)[1]\n",
    "df.head()"
   ]
  },
  {
   "cell_type": "code",
   "execution_count": 116,
   "id": "dc3b4d0d",
   "metadata": {},
   "outputs": [
    {
     "data": {
      "text/html": [
       "<div>\n",
       "<style scoped>\n",
       "    .dataframe tbody tr th:only-of-type {\n",
       "        vertical-align: middle;\n",
       "    }\n",
       "\n",
       "    .dataframe tbody tr th {\n",
       "        vertical-align: top;\n",
       "    }\n",
       "\n",
       "    .dataframe thead th {\n",
       "        text-align: right;\n",
       "    }\n",
       "</style>\n",
       "<table border=\"1\" class=\"dataframe\">\n",
       "  <thead>\n",
       "    <tr style=\"text-align: right;\">\n",
       "      <th></th>\n",
       "      <th>fare_amount</th>\n",
       "      <th>passenger_count</th>\n",
       "      <th>Distance (km)</th>\n",
       "      <th>pickup_month</th>\n",
       "      <th>pickup_day</th>\n",
       "      <th>pickup_hour</th>\n",
       "      <th>pickup_minute</th>\n",
       "    </tr>\n",
       "  </thead>\n",
       "  <tbody>\n",
       "    <tr>\n",
       "      <th>0</th>\n",
       "      <td>7.5</td>\n",
       "      <td>1</td>\n",
       "      <td>1.683323</td>\n",
       "      <td>05</td>\n",
       "      <td>07</td>\n",
       "      <td>19</td>\n",
       "      <td>52</td>\n",
       "    </tr>\n",
       "    <tr>\n",
       "      <th>1</th>\n",
       "      <td>7.7</td>\n",
       "      <td>1</td>\n",
       "      <td>2.457590</td>\n",
       "      <td>07</td>\n",
       "      <td>17</td>\n",
       "      <td>20</td>\n",
       "      <td>04</td>\n",
       "    </tr>\n",
       "    <tr>\n",
       "      <th>2</th>\n",
       "      <td>12.9</td>\n",
       "      <td>1</td>\n",
       "      <td>5.036377</td>\n",
       "      <td>08</td>\n",
       "      <td>24</td>\n",
       "      <td>21</td>\n",
       "      <td>45</td>\n",
       "    </tr>\n",
       "    <tr>\n",
       "      <th>3</th>\n",
       "      <td>5.3</td>\n",
       "      <td>3</td>\n",
       "      <td>1.661683</td>\n",
       "      <td>06</td>\n",
       "      <td>26</td>\n",
       "      <td>08</td>\n",
       "      <td>22</td>\n",
       "    </tr>\n",
       "    <tr>\n",
       "      <th>4</th>\n",
       "      <td>16.0</td>\n",
       "      <td>5</td>\n",
       "      <td>4.475450</td>\n",
       "      <td>08</td>\n",
       "      <td>28</td>\n",
       "      <td>17</td>\n",
       "      <td>47</td>\n",
       "    </tr>\n",
       "    <tr>\n",
       "      <th>6</th>\n",
       "      <td>24.5</td>\n",
       "      <td>5</td>\n",
       "      <td>11.731015</td>\n",
       "      <td>10</td>\n",
       "      <td>12</td>\n",
       "      <td>07</td>\n",
       "      <td>04</td>\n",
       "    </tr>\n",
       "  </tbody>\n",
       "</table>\n",
       "</div>"
      ],
      "text/plain": [
       "   fare_amount  passenger_count  Distance (km) pickup_month pickup_day  \\\n",
       "0          7.5                1       1.683323           05         07   \n",
       "1          7.7                1       2.457590           07         17   \n",
       "2         12.9                1       5.036377           08         24   \n",
       "3          5.3                3       1.661683           06         26   \n",
       "4         16.0                5       4.475450           08         28   \n",
       "6         24.5                5      11.731015           10         12   \n",
       "\n",
       "  pickup_hour pickup_minute  \n",
       "0          19            52  \n",
       "1          20            04  \n",
       "2          21            45  \n",
       "3          08            22  \n",
       "4          17            47  \n",
       "6          07            04  "
      ]
     },
     "execution_count": 116,
     "metadata": {},
     "output_type": "execute_result"
    }
   ],
   "source": [
    "df.drop(columns = ['key', 'pickup_datetime', 'pickup_date', 'pickup_time'], axis = 1, inplace = True)\n",
    "df.head(6)"
   ]
  },
  {
   "cell_type": "code",
   "execution_count": 117,
   "id": "7c330a4a",
   "metadata": {},
   "outputs": [
    {
     "data": {
      "text/plain": [
       "fare_amount        float64\n",
       "passenger_count      int64\n",
       "Distance (km)      float64\n",
       "pickup_month        object\n",
       "pickup_day          object\n",
       "pickup_hour         object\n",
       "pickup_minute       object\n",
       "dtype: object"
      ]
     },
     "execution_count": 117,
     "metadata": {},
     "output_type": "execute_result"
    }
   ],
   "source": [
    "df.dtypes"
   ]
  },
  {
   "cell_type": "code",
   "execution_count": 118,
   "id": "4119c889",
   "metadata": {},
   "outputs": [],
   "source": [
    "df['pickup_month'] = df['pickup_month'].astype('int64')\n",
    "df['pickup_day'] = df['pickup_day'].astype('int64')\n",
    "df['pickup_hour'] = df['pickup_hour'].astype('int64')\n",
    "df['pickup_minute'] = df['pickup_minute'].astype('int64')"
   ]
  },
  {
   "cell_type": "code",
   "execution_count": 119,
   "id": "d4b100ca",
   "metadata": {},
   "outputs": [
    {
     "data": {
      "text/html": [
       "<div>\n",
       "<style scoped>\n",
       "    .dataframe tbody tr th:only-of-type {\n",
       "        vertical-align: middle;\n",
       "    }\n",
       "\n",
       "    .dataframe tbody tr th {\n",
       "        vertical-align: top;\n",
       "    }\n",
       "\n",
       "    .dataframe thead th {\n",
       "        text-align: right;\n",
       "    }\n",
       "</style>\n",
       "<table border=\"1\" class=\"dataframe\">\n",
       "  <thead>\n",
       "    <tr style=\"text-align: right;\">\n",
       "      <th></th>\n",
       "      <th>count</th>\n",
       "      <th>mean</th>\n",
       "      <th>std</th>\n",
       "      <th>min</th>\n",
       "      <th>25%</th>\n",
       "      <th>50%</th>\n",
       "      <th>75%</th>\n",
       "      <th>max</th>\n",
       "    </tr>\n",
       "  </thead>\n",
       "  <tbody>\n",
       "    <tr>\n",
       "      <th>fare_amount</th>\n",
       "      <td>194353.0</td>\n",
       "      <td>11.353372</td>\n",
       "      <td>9.753446</td>\n",
       "      <td>-52.0</td>\n",
       "      <td>6.000000</td>\n",
       "      <td>8.500000</td>\n",
       "      <td>12.500000</td>\n",
       "      <td>499.000000</td>\n",
       "    </tr>\n",
       "    <tr>\n",
       "      <th>passenger_count</th>\n",
       "      <td>194353.0</td>\n",
       "      <td>1.683838</td>\n",
       "      <td>1.307185</td>\n",
       "      <td>0.0</td>\n",
       "      <td>1.000000</td>\n",
       "      <td>1.000000</td>\n",
       "      <td>2.000000</td>\n",
       "      <td>6.000000</td>\n",
       "    </tr>\n",
       "    <tr>\n",
       "      <th>Distance (km)</th>\n",
       "      <td>194353.0</td>\n",
       "      <td>21.111697</td>\n",
       "      <td>384.567785</td>\n",
       "      <td>0.0</td>\n",
       "      <td>1.281695</td>\n",
       "      <td>2.184262</td>\n",
       "      <td>3.959393</td>\n",
       "      <td>8782.898606</td>\n",
       "    </tr>\n",
       "    <tr>\n",
       "      <th>pickup_month</th>\n",
       "      <td>194353.0</td>\n",
       "      <td>6.280989</td>\n",
       "      <td>3.440355</td>\n",
       "      <td>1.0</td>\n",
       "      <td>3.000000</td>\n",
       "      <td>6.000000</td>\n",
       "      <td>9.000000</td>\n",
       "      <td>12.000000</td>\n",
       "    </tr>\n",
       "    <tr>\n",
       "      <th>pickup_day</th>\n",
       "      <td>194353.0</td>\n",
       "      <td>15.703864</td>\n",
       "      <td>8.687694</td>\n",
       "      <td>1.0</td>\n",
       "      <td>8.000000</td>\n",
       "      <td>16.000000</td>\n",
       "      <td>23.000000</td>\n",
       "      <td>31.000000</td>\n",
       "    </tr>\n",
       "    <tr>\n",
       "      <th>pickup_hour</th>\n",
       "      <td>194353.0</td>\n",
       "      <td>13.488467</td>\n",
       "      <td>6.515229</td>\n",
       "      <td>0.0</td>\n",
       "      <td>9.000000</td>\n",
       "      <td>14.000000</td>\n",
       "      <td>19.000000</td>\n",
       "      <td>23.000000</td>\n",
       "    </tr>\n",
       "    <tr>\n",
       "      <th>pickup_minute</th>\n",
       "      <td>194353.0</td>\n",
       "      <td>29.527710</td>\n",
       "      <td>17.339182</td>\n",
       "      <td>0.0</td>\n",
       "      <td>14.000000</td>\n",
       "      <td>30.000000</td>\n",
       "      <td>45.000000</td>\n",
       "      <td>59.000000</td>\n",
       "    </tr>\n",
       "  </tbody>\n",
       "</table>\n",
       "</div>"
      ],
      "text/plain": [
       "                    count       mean         std   min        25%        50%  \\\n",
       "fare_amount      194353.0  11.353372    9.753446 -52.0   6.000000   8.500000   \n",
       "passenger_count  194353.0   1.683838    1.307185   0.0   1.000000   1.000000   \n",
       "Distance (km)    194353.0  21.111697  384.567785   0.0   1.281695   2.184262   \n",
       "pickup_month     194353.0   6.280989    3.440355   1.0   3.000000   6.000000   \n",
       "pickup_day       194353.0  15.703864    8.687694   1.0   8.000000  16.000000   \n",
       "pickup_hour      194353.0  13.488467    6.515229   0.0   9.000000  14.000000   \n",
       "pickup_minute    194353.0  29.527710   17.339182   0.0  14.000000  30.000000   \n",
       "\n",
       "                       75%          max  \n",
       "fare_amount      12.500000   499.000000  \n",
       "passenger_count   2.000000     6.000000  \n",
       "Distance (km)     3.959393  8782.898606  \n",
       "pickup_month      9.000000    12.000000  \n",
       "pickup_day       23.000000    31.000000  \n",
       "pickup_hour      19.000000    23.000000  \n",
       "pickup_minute    45.000000    59.000000  "
      ]
     },
     "execution_count": 119,
     "metadata": {},
     "output_type": "execute_result"
    }
   ],
   "source": [
    "df.describe().T"
   ]
  },
  {
   "cell_type": "code",
   "execution_count": 120,
   "id": "64dba648",
   "metadata": {},
   "outputs": [
    {
     "data": {
      "text/plain": [
       "fare_amount        float64\n",
       "passenger_count      int64\n",
       "Distance (km)      float64\n",
       "pickup_month         int64\n",
       "pickup_day           int64\n",
       "pickup_hour          int64\n",
       "pickup_minute        int64\n",
       "dtype: object"
      ]
     },
     "execution_count": 120,
     "metadata": {},
     "output_type": "execute_result"
    }
   ],
   "source": [
    "df.dtypes"
   ]
  },
  {
   "cell_type": "code",
   "execution_count": 121,
   "id": "3f22243e",
   "metadata": {},
   "outputs": [
    {
     "name": "stdout",
     "output_type": "stream",
     "text": [
      "All Features : ['fare_amount', 'passenger_count', 'Distance (km)', 'pickup_month', 'pickup_day', 'pickup_hour', 'pickup_minute']\n",
      "\n",
      "Numeric Features : ['fare_amount', 'passenger_count', 'Distance (km)', 'pickup_month', 'pickup_day', 'pickup_hour', 'pickup_minute']\n",
      "\n",
      "Categorical Features : []\n"
     ]
    }
   ],
   "source": [
    "all_col = list(df.columns)\n",
    "num_col = list(df._get_numeric_data())\n",
    "cat_col = list(set(all_col) - set(num_col))\n",
    "\n",
    "print(f\"All Features : {all_col}\")\n",
    "print(f\"\\nNumeric Features : {num_col}\")\n",
    "print(f\"\\nCategorical Features : {cat_col}\")"
   ]
  },
  {
   "cell_type": "code",
   "execution_count": 45,
   "id": "5e158fd0",
   "metadata": {},
   "outputs": [
    {
     "data": {
      "image/png": "[encoded data removed]",
      "text/plain": [
       "<Figure size 1500x600 with 1 Axes>"
      ]
     },
     "metadata": {},
     "output_type": "display_data"
    },
    {
     "data": {
      "image/png": "[encoded data removed]",
      "text/plain": [
       "<Figure size 1500x600 with 1 Axes>"
      ]
     },
     "metadata": {},
     "output_type": "display_data"
    },
    {
     "data": {
      "image/png": "[encoded data removed]",
      "text/plain": [
       "<Figure size 1500x600 with 1 Axes>"
      ]
     },
     "metadata": {},
     "output_type": "display_data"
    },
    {
     "data": {
      "image/png": "[encoded data removed]",
      "text/plain": [
       "<Figure size 1500x600 with 1 Axes>"
      ]
     },
     "metadata": {},
     "output_type": "display_data"
    },
    {
     "data": {
      "image/png": "[encoded data removed]",
      "text/plain": [
       "<Figure size 1500x600 with 1 Axes>"
      ]
     },
     "metadata": {},
     "output_type": "display_data"
    },
    {
     "data": {
      "image/png": "[encoded data removed]",
      "text/plain": [
       "<Figure size 1500x600 with 1 Axes>"
      ]
     },
     "metadata": {},
     "output_type": "display_data"
    },
    {
     "data": {
      "image/png": "[encoded data removed]",
      "text/plain": [
       "<Figure size 1500x600 with 1 Axes>"
      ]
     },
     "metadata": {},
     "output_type": "display_data"
    }
   ],
   "source": [
    "for i in num_col:    \n",
    "    sns.set()\n",
    "    plt.figure(figsize = (15, 6))\n",
    "    sns.histplot(data = df, x = i, kde = True)\n",
    "    plt.show()"
   ]
  },
  {
   "cell_type": "markdown",
   "id": "77a72cf5",
   "metadata": {},
   "source": [
    "# Split the data"
   ]
  },
  {
   "cell_type": "code",
   "execution_count": 122,
   "id": "31501ca4",
   "metadata": {},
   "outputs": [],
   "source": [
    "x = df.drop(columns = ['fare_amount'])\n",
    "y = df[['fare_amount']]"
   ]
  },
  {
   "cell_type": "code",
   "execution_count": 123,
   "id": "0427d0cf",
   "metadata": {},
   "outputs": [
    {
     "data": {
      "text/html": [
       "<div>\n",
       "<style scoped>\n",
       "    .dataframe tbody tr th:only-of-type {\n",
       "        vertical-align: middle;\n",
       "    }\n",
       "\n",
       "    .dataframe tbody tr th {\n",
       "        vertical-align: top;\n",
       "    }\n",
       "\n",
       "    .dataframe thead th {\n",
       "        text-align: right;\n",
       "    }\n",
       "</style>\n",
       "<table border=\"1\" class=\"dataframe\">\n",
       "  <thead>\n",
       "    <tr style=\"text-align: right;\">\n",
       "      <th></th>\n",
       "      <th>passenger_count</th>\n",
       "      <th>Distance (km)</th>\n",
       "      <th>pickup_month</th>\n",
       "      <th>pickup_day</th>\n",
       "      <th>pickup_hour</th>\n",
       "      <th>pickup_minute</th>\n",
       "    </tr>\n",
       "  </thead>\n",
       "  <tbody>\n",
       "    <tr>\n",
       "      <th>0</th>\n",
       "      <td>1</td>\n",
       "      <td>1.683323</td>\n",
       "      <td>5</td>\n",
       "      <td>7</td>\n",
       "      <td>19</td>\n",
       "      <td>52</td>\n",
       "    </tr>\n",
       "    <tr>\n",
       "      <th>1</th>\n",
       "      <td>1</td>\n",
       "      <td>2.457590</td>\n",
       "      <td>7</td>\n",
       "      <td>17</td>\n",
       "      <td>20</td>\n",
       "      <td>4</td>\n",
       "    </tr>\n",
       "    <tr>\n",
       "      <th>2</th>\n",
       "      <td>1</td>\n",
       "      <td>5.036377</td>\n",
       "      <td>8</td>\n",
       "      <td>24</td>\n",
       "      <td>21</td>\n",
       "      <td>45</td>\n",
       "    </tr>\n",
       "    <tr>\n",
       "      <th>3</th>\n",
       "      <td>3</td>\n",
       "      <td>1.661683</td>\n",
       "      <td>6</td>\n",
       "      <td>26</td>\n",
       "      <td>8</td>\n",
       "      <td>22</td>\n",
       "    </tr>\n",
       "    <tr>\n",
       "      <th>4</th>\n",
       "      <td>5</td>\n",
       "      <td>4.475450</td>\n",
       "      <td>8</td>\n",
       "      <td>28</td>\n",
       "      <td>17</td>\n",
       "      <td>47</td>\n",
       "    </tr>\n",
       "  </tbody>\n",
       "</table>\n",
       "</div>"
      ],
      "text/plain": [
       "   passenger_count  Distance (km)  pickup_month  pickup_day  pickup_hour  \\\n",
       "0                1       1.683323             5           7           19   \n",
       "1                1       2.457590             7          17           20   \n",
       "2                1       5.036377             8          24           21   \n",
       "3                3       1.661683             6          26            8   \n",
       "4                5       4.475450             8          28           17   \n",
       "\n",
       "   pickup_minute  \n",
       "0             52  \n",
       "1              4  \n",
       "2             45  \n",
       "3             22  \n",
       "4             47  "
      ]
     },
     "execution_count": 123,
     "metadata": {},
     "output_type": "execute_result"
    }
   ],
   "source": [
    "x.head()"
   ]
  },
  {
   "cell_type": "code",
   "execution_count": 124,
   "id": "5f96bb08",
   "metadata": {},
   "outputs": [
    {
     "data": {
      "text/html": [
       "<div>\n",
       "<style scoped>\n",
       "    .dataframe tbody tr th:only-of-type {\n",
       "        vertical-align: middle;\n",
       "    }\n",
       "\n",
       "    .dataframe tbody tr th {\n",
       "        vertical-align: top;\n",
       "    }\n",
       "\n",
       "    .dataframe thead th {\n",
       "        text-align: right;\n",
       "    }\n",
       "</style>\n",
       "<table border=\"1\" class=\"dataframe\">\n",
       "  <thead>\n",
       "    <tr style=\"text-align: right;\">\n",
       "      <th></th>\n",
       "      <th>fare_amount</th>\n",
       "    </tr>\n",
       "  </thead>\n",
       "  <tbody>\n",
       "    <tr>\n",
       "      <th>0</th>\n",
       "      <td>7.5</td>\n",
       "    </tr>\n",
       "    <tr>\n",
       "      <th>1</th>\n",
       "      <td>7.7</td>\n",
       "    </tr>\n",
       "    <tr>\n",
       "      <th>2</th>\n",
       "      <td>12.9</td>\n",
       "    </tr>\n",
       "    <tr>\n",
       "      <th>3</th>\n",
       "      <td>5.3</td>\n",
       "    </tr>\n",
       "    <tr>\n",
       "      <th>4</th>\n",
       "      <td>16.0</td>\n",
       "    </tr>\n",
       "  </tbody>\n",
       "</table>\n",
       "</div>"
      ],
      "text/plain": [
       "   fare_amount\n",
       "0          7.5\n",
       "1          7.7\n",
       "2         12.9\n",
       "3          5.3\n",
       "4         16.0"
      ]
     },
     "execution_count": 124,
     "metadata": {},
     "output_type": "execute_result"
    }
   ],
   "source": [
    "y.head()"
   ]
  },
  {
   "cell_type": "code",
   "execution_count": 125,
   "id": "03089910",
   "metadata": {},
   "outputs": [
    {
     "name": "stdout",
     "output_type": "stream",
     "text": [
      "x has : (194353, 6)\n",
      "y has : (194353, 1)\n"
     ]
    }
   ],
   "source": [
    "print(f\"x has : {x.shape}\")\n",
    "print(f\"y has : {y.shape}\")"
   ]
  },
  {
   "cell_type": "code",
   "execution_count": 126,
   "id": "67b694c6",
   "metadata": {},
   "outputs": [],
   "source": [
    "x_train, x_test, y_train, y_test = train_test_split(x, y, random_state = 42, shuffle = True, train_size = 0.7)"
   ]
  },
  {
   "cell_type": "code",
   "execution_count": 127,
   "id": "3f821ea8",
   "metadata": {},
   "outputs": [
    {
     "name": "stdout",
     "output_type": "stream",
     "text": [
      "x_train has : (136047, 6)\n",
      "y_train has : (136047, 1)\n",
      "x_test has : (58306, 6)\n",
      "y_test has : (58306, 1)\n"
     ]
    }
   ],
   "source": [
    "print(f\"x_train has : {x_train.shape}\")\n",
    "print(f\"y_train has : {y_train.shape}\")\n",
    "print(f\"x_test has : {x_test.shape}\")\n",
    "print(f\"y_test has : {y_test.shape}\")"
   ]
  },
  {
   "cell_type": "markdown",
   "id": "38ae016c",
   "metadata": {},
   "source": [
    "# Correlation of the data."
   ]
  },
  {
   "cell_type": "code",
   "execution_count": 128,
   "id": "e34b356f",
   "metadata": {},
   "outputs": [
    {
     "data": {
      "image/png": "[encoded data removed]",
      "text/plain": [
       "<Figure size 2000x2000 with 2 Axes>"
      ]
     },
     "metadata": {},
     "output_type": "display_data"
    }
   ],
   "source": [
    "sns.set()\n",
    "plt.figure(figsize = (20, 20))\n",
    "sns.heatmap(x_train.corr(), annot = True, linewidths = 0.6, cmap = \"coolwarm_r\", fmt = 'g')\n",
    "plt.show()"
   ]
  },
  {
   "cell_type": "code",
   "execution_count": 129,
   "id": "0bf3309a",
   "metadata": {},
   "outputs": [
    {
     "data": {
      "image/png": "[encoded data removed]",
      "text/plain": [
       "<Figure size 2000x2000 with 2 Axes>"
      ]
     },
     "metadata": {},
     "output_type": "display_data"
    }
   ],
   "source": [
    "corr = x_train.corr().abs()\n",
    "\n",
    "upper = corr.where(np.triu(np.ones(corr.shape), k=1).astype(np.bool))\n",
    "\n",
    "sns.set()\n",
    "plt.figure(figsize = (20, 20))\n",
    "sns.heatmap(upper, annot = True, linewidths = 0.6, cmap = \"coolwarm_r\", fmt = 'g')\n",
    "plt.show()"
   ]
  },
  {
   "cell_type": "code",
   "execution_count": 130,
   "id": "75df7c35",
   "metadata": {},
   "outputs": [
    {
     "data": {
      "text/plain": [
       "[]"
      ]
     },
     "execution_count": 130,
     "metadata": {},
     "output_type": "execute_result"
    }
   ],
   "source": [
    "to_drop = list(column for column in upper.columns if any(upper[column] > 0.95))\n",
    "\n",
    "to_drop"
   ]
  },
  {
   "cell_type": "markdown",
   "id": "bd2df70c",
   "metadata": {},
   "source": [
    "# Scaling the dataset."
   ]
  },
  {
   "cell_type": "code",
   "execution_count": 131,
   "id": "0828d006",
   "metadata": {},
   "outputs": [
    {
     "data": {
      "text/html": [
       "<style>#sk-container-id-3 {color: black;background-color: white;}#sk-container-id-3 pre{padding: 0;}#sk-container-id-3 div.sk-toggleable {background-color: white;}#sk-container-id-3 label.sk-toggleable__label {cursor: pointer;display: block;width: 100%;margin-bottom: 0;padding: 0.3em;box-sizing: border-box;text-align: center;}#sk-container-id-3 label.sk-toggleable__label-arrow:before {content: \"▸\";float: left;margin-right: 0.25em;color: #696969;}#sk-container-id-3 label.sk-toggleable__label-arrow:hover:before {color: black;}#sk-container-id-3 div.sk-estimator:hover label.sk-toggleable__label-arrow:before {color: black;}#sk-container-id-3 div.sk-toggleable__content {max-height: 0;max-width: 0;overflow: hidden;text-align: left;background-color: #f0f8ff;}#sk-container-id-3 div.sk-toggleable__content pre {margin: 0.2em;color: black;border-radius: 0.25em;background-color: #f0f8ff;}#sk-container-id-3 input.sk-toggleable__control:checked~div.sk-toggleable__content {max-height: 200px;max-width: 100%;overflow: auto;}#sk-container-id-3 input.sk-toggleable__control:checked~label.sk-toggleable__label-arrow:before {content: \"▾\";}#sk-container-id-3 div.sk-estimator input.sk-toggleable__control:checked~label.sk-toggleable__label {background-color: #d4ebff;}#sk-container-id-3 div.sk-label input.sk-toggleable__control:checked~label.sk-toggleable__label {background-color: #d4ebff;}#sk-container-id-3 input.sk-hidden--visually {border: 0;clip: rect(1px 1px 1px 1px);clip: rect(1px, 1px, 1px, 1px);height: 1px;margin: -1px;overflow: hidden;padding: 0;position: absolute;width: 1px;}#sk-container-id-3 div.sk-estimator {font-family: monospace;background-color: #f0f8ff;border: 1px dotted black;border-radius: 0.25em;box-sizing: border-box;margin-bottom: 0.5em;}#sk-container-id-3 div.sk-estimator:hover {background-color: #d4ebff;}#sk-container-id-3 div.sk-parallel-item::after {content: \"\";width: 100%;border-bottom: 1px solid gray;flex-grow: 1;}#sk-container-id-3 div.sk-label:hover label.sk-toggleable__label {background-color: #d4ebff;}#sk-container-id-3 div.sk-serial::before {content: \"\";position: absolute;border-left: 1px solid gray;box-sizing: border-box;top: 0;bottom: 0;left: 50%;z-index: 0;}#sk-container-id-3 div.sk-serial {display: flex;flex-direction: column;align-items: center;background-color: white;padding-right: 0.2em;padding-left: 0.2em;position: relative;}#sk-container-id-3 div.sk-item {position: relative;z-index: 1;}#sk-container-id-3 div.sk-parallel {display: flex;align-items: stretch;justify-content: center;background-color: white;position: relative;}#sk-container-id-3 div.sk-item::before, #sk-container-id-3 div.sk-parallel-item::before {content: \"\";position: absolute;border-left: 1px solid gray;box-sizing: border-box;top: 0;bottom: 0;left: 50%;z-index: -1;}#sk-container-id-3 div.sk-parallel-item {display: flex;flex-direction: column;z-index: 1;position: relative;background-color: white;}#sk-container-id-3 div.sk-parallel-item:first-child::after {align-self: flex-end;width: 50%;}#sk-container-id-3 div.sk-parallel-item:last-child::after {align-self: flex-start;width: 50%;}#sk-container-id-3 div.sk-parallel-item:only-child::after {width: 0;}#sk-container-id-3 div.sk-dashed-wrapped {border: 1px dashed gray;margin: 0 0.4em 0.5em 0.4em;box-sizing: border-box;padding-bottom: 0.4em;background-color: white;}#sk-container-id-3 div.sk-label label {font-family: monospace;font-weight: bold;display: inline-block;line-height: 1.2em;}#sk-container-id-3 div.sk-label-container {text-align: center;}#sk-container-id-3 div.sk-container {/* jupyter's `normalize.less` sets `[hidden] { display: none; }` but bootstrap.min.css set `[hidden] { display: none !important; }` so we also need the `!important` here to be able to override the default hidden behavior on the sphinx rendered scikit-learn.org. See: https://github.com/scikit-learn/scikit-learn/issues/21755 */display: inline-block !important;position: relative;}#sk-container-id-3 div.sk-text-repr-fallback {display: none;}</style><div id=\"sk-container-id-3\" class=\"sk-top-container\"><div class=\"sk-text-repr-fallback\"><pre>Pipeline(steps=[(&#x27;Standard scaler&#x27;, StandardScaler())])</pre><b>In a Jupyter environment, please rerun this cell to show the HTML representation or trust the notebook. <br />On GitHub, the HTML representation is unable to render, please try loading this page with nbviewer.org.</b></div><div class=\"sk-container\" hidden><div class=\"sk-item sk-dashed-wrapped\"><div class=\"sk-label-container\"><div class=\"sk-label sk-toggleable\"><input class=\"sk-toggleable__control sk-hidden--visually\" id=\"sk-estimator-id-4\" type=\"checkbox\" ><label for=\"sk-estimator-id-4\" class=\"sk-toggleable__label sk-toggleable__label-arrow\">Pipeline</label><div class=\"sk-toggleable__content\"><pre>Pipeline(steps=[(&#x27;Standard scaler&#x27;, StandardScaler())])</pre></div></div></div><div class=\"sk-serial\"><div class=\"sk-item\"><div class=\"sk-estimator sk-toggleable\"><input class=\"sk-toggleable__control sk-hidden--visually\" id=\"sk-estimator-id-5\" type=\"checkbox\" ><label for=\"sk-estimator-id-5\" class=\"sk-toggleable__label sk-toggleable__label-arrow\">StandardScaler</label><div class=\"sk-toggleable__content\"><pre>StandardScaler()</pre></div></div></div></div></div></div></div>"
      ],
      "text/plain": [
       "Pipeline(steps=[('Standard scaler', StandardScaler())])"
      ]
     },
     "execution_count": 131,
     "metadata": {},
     "output_type": "execute_result"
    }
   ],
   "source": [
    "scaling_pipe = Pipeline(steps =[\n",
    "    ('Standard scaler', StandardScaler())\n",
    "])\n",
    "\n",
    "scaling_pipe"
   ]
  },
  {
   "cell_type": "markdown",
   "id": "9e8f18a0",
   "metadata": {},
   "source": [
    "# Model Building"
   ]
  },
  {
   "cell_type": "code",
   "execution_count": 134,
   "id": "39845876",
   "metadata": {},
   "outputs": [],
   "source": [
    "def model_building(x_train, y_train, x_test, y_test, model):\n",
    "    model.fit(x_train, y_train)\n",
    "    \n",
    "    y_train_pred = model.predict(x_train)\n",
    "    y_test_pred = model.predict(x_test)\n",
    "    \n",
    "    y_train_df = pd.DataFrame({\"y train \" : y_train, \"y train prediction\" : y_train_pred})\n",
    "    y_test_df = pd.DataFrame({\"y test \" : y_test, \"y test prediction\" : y_test_pred})"
   ]
  },
  {
   "cell_type": "code",
   "execution_count": null,
   "id": "53f8ad9c",
   "metadata": {},
   "outputs": [],
   "source": []
  },
  {
   "cell_type": "code",
   "execution_count": null,
   "id": "8493190b",
   "metadata": {},
   "outputs": [],
   "source": []
  },
  {
   "cell_type": "code",
   "execution_count": null,
   "id": "3a2438c2",
   "metadata": {},
   "outputs": [],
   "source": []
  }
 ],
 "metadata": {
  "kernelspec": {
   "display_name": "Python 3 (ipykernel)",
   "language": "python",
   "name": "python3"
  },
  "language_info": {
   "codemirror_mode": {
    "name": "ipython",
    "version": 3
   },
   "file_extension": ".py",
   "mimetype": "text/x-python",
   "name": "python",
   "nbconvert_exporter": "python",
   "pygments_lexer": "ipython3",
   "version": "3.10.9"
  }
 },
 "nbformat": 4,
 "nbformat_minor": 5
}
